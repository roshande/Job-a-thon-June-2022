{
 "cells": [
  {
   "cell_type": "code",
   "execution_count": 1,
   "id": "b5b3c981",
   "metadata": {},
   "outputs": [],
   "source": [
    "import pandas as pd\n",
    "import numpy as np\n",
    "import matplotlib.pyplot as plt\n",
    "import seaborn as sns\n",
    "\n",
    "from sklearn import metrics\n",
    "import catboost"
   ]
  },
  {
   "cell_type": "code",
   "execution_count": 2,
   "id": "e525a3b2",
   "metadata": {},
   "outputs": [],
   "source": [
    "train = pd.read_pickle('dataset/train-catboost.pk')\n",
    "val = pd.read_pickle('dataset/val-catboost.pk')\n",
    "test = pd.read_pickle('dataset/test-catboost.pk')"
   ]
  },
  {
   "cell_type": "code",
   "execution_count": 3,
   "id": "8f298532",
   "metadata": {},
   "outputs": [
    {
     "data": {
      "text/plain": [
       "((29370, 32), (13184, 31))"
      ]
     },
     "execution_count": 3,
     "metadata": {},
     "output_type": "execute_result"
    }
   ],
   "source": [
    "train.shape, test.shape"
   ]
  },
  {
   "cell_type": "code",
   "execution_count": 4,
   "id": "dc0de8dd",
   "metadata": {},
   "outputs": [
    {
     "data": {
      "text/html": [
       "<div>\n",
       "<style scoped>\n",
       "    .dataframe tbody tr th:only-of-type {\n",
       "        vertical-align: middle;\n",
       "    }\n",
       "\n",
       "    .dataframe tbody tr th {\n",
       "        vertical-align: top;\n",
       "    }\n",
       "\n",
       "    .dataframe thead th {\n",
       "        text-align: right;\n",
       "    }\n",
       "</style>\n",
       "<table border=\"1\" class=\"dataframe\">\n",
       "  <thead>\n",
       "    <tr style=\"text-align: right;\">\n",
       "      <th></th>\n",
       "      <th>campaign_var_1_trim</th>\n",
       "      <th>campaign_var_2_trim</th>\n",
       "      <th>user_act_trim</th>\n",
       "    </tr>\n",
       "    <tr>\n",
       "      <th>id</th>\n",
       "      <th></th>\n",
       "      <th></th>\n",
       "      <th></th>\n",
       "    </tr>\n",
       "  </thead>\n",
       "  <tbody>\n",
       "    <tr>\n",
       "      <th>18378</th>\n",
       "      <td>others</td>\n",
       "      <td>7</td>\n",
       "      <td>000000010</td>\n",
       "    </tr>\n",
       "    <tr>\n",
       "      <th>36502</th>\n",
       "      <td>6</td>\n",
       "      <td>7</td>\n",
       "      <td>000100010</td>\n",
       "    </tr>\n",
       "    <tr>\n",
       "      <th>34367</th>\n",
       "      <td>8</td>\n",
       "      <td>5</td>\n",
       "      <td>100000000</td>\n",
       "    </tr>\n",
       "    <tr>\n",
       "      <th>35466</th>\n",
       "      <td>4</td>\n",
       "      <td>5</td>\n",
       "      <td>000011000</td>\n",
       "    </tr>\n",
       "    <tr>\n",
       "      <th>8924</th>\n",
       "      <td>6</td>\n",
       "      <td>5</td>\n",
       "      <td>000011000</td>\n",
       "    </tr>\n",
       "    <tr>\n",
       "      <th>...</th>\n",
       "      <td>...</td>\n",
       "      <td>...</td>\n",
       "      <td>...</td>\n",
       "    </tr>\n",
       "    <tr>\n",
       "      <th>37112</th>\n",
       "      <td>9</td>\n",
       "      <td>5</td>\n",
       "      <td>000011000</td>\n",
       "    </tr>\n",
       "    <tr>\n",
       "      <th>30399</th>\n",
       "      <td>5</td>\n",
       "      <td>10</td>\n",
       "      <td>000110010</td>\n",
       "    </tr>\n",
       "    <tr>\n",
       "      <th>8517</th>\n",
       "      <td>5</td>\n",
       "      <td>3</td>\n",
       "      <td>000010000</td>\n",
       "    </tr>\n",
       "    <tr>\n",
       "      <th>5557</th>\n",
       "      <td>4</td>\n",
       "      <td>7</td>\n",
       "      <td>000000100</td>\n",
       "    </tr>\n",
       "    <tr>\n",
       "      <th>695</th>\n",
       "      <td>8</td>\n",
       "      <td>7</td>\n",
       "      <td>000100010</td>\n",
       "    </tr>\n",
       "  </tbody>\n",
       "</table>\n",
       "<p>29370 rows × 3 columns</p>\n",
       "</div>"
      ],
      "text/plain": [
       "      campaign_var_1_trim campaign_var_2_trim user_act_trim\n",
       "id                                                         \n",
       "18378              others                   7     000000010\n",
       "36502                   6                   7     000100010\n",
       "34367                   8                   5     100000000\n",
       "35466                   4                   5     000011000\n",
       "8924                    6                   5     000011000\n",
       "...                   ...                 ...           ...\n",
       "37112                   9                   5     000011000\n",
       "30399                   5                  10     000110010\n",
       "8517                    5                   3     000010000\n",
       "5557                    4                   7     000000100\n",
       "695                     8                   7     000100010\n",
       "\n",
       "[29370 rows x 3 columns]"
      ]
     },
     "execution_count": 4,
     "metadata": {},
     "output_type": "execute_result"
    }
   ],
   "source": [
    "train.select_dtypes(exclude='number')"
   ]
  },
  {
   "cell_type": "code",
   "execution_count": 5,
   "id": "acfcd144",
   "metadata": {},
   "outputs": [
    {
     "data": {
      "text/html": [
       "<div>\n",
       "<style scoped>\n",
       "    .dataframe tbody tr th:only-of-type {\n",
       "        vertical-align: middle;\n",
       "    }\n",
       "\n",
       "    .dataframe tbody tr th {\n",
       "        vertical-align: top;\n",
       "    }\n",
       "\n",
       "    .dataframe thead th {\n",
       "        text-align: right;\n",
       "    }\n",
       "</style>\n",
       "<table border=\"1\" class=\"dataframe\">\n",
       "  <thead>\n",
       "    <tr style=\"text-align: right;\">\n",
       "      <th></th>\n",
       "      <th>campaign_var_1_trim</th>\n",
       "      <th>campaign_var_2_trim</th>\n",
       "      <th>user_act_trim</th>\n",
       "    </tr>\n",
       "    <tr>\n",
       "      <th>id</th>\n",
       "      <th></th>\n",
       "      <th></th>\n",
       "      <th></th>\n",
       "    </tr>\n",
       "  </thead>\n",
       "  <tbody>\n",
       "    <tr>\n",
       "      <th>14234</th>\n",
       "      <td>9</td>\n",
       "      <td>6</td>\n",
       "      <td>100000110</td>\n",
       "    </tr>\n",
       "    <tr>\n",
       "      <th>39076</th>\n",
       "      <td>11</td>\n",
       "      <td>10</td>\n",
       "      <td>000010000</td>\n",
       "    </tr>\n",
       "    <tr>\n",
       "      <th>18900</th>\n",
       "      <td>others</td>\n",
       "      <td>8</td>\n",
       "      <td>000001010</td>\n",
       "    </tr>\n",
       "    <tr>\n",
       "      <th>38889</th>\n",
       "      <td>10</td>\n",
       "      <td>9</td>\n",
       "      <td>000010010</td>\n",
       "    </tr>\n",
       "    <tr>\n",
       "      <th>24408</th>\n",
       "      <td>6</td>\n",
       "      <td>others</td>\n",
       "      <td>100000000</td>\n",
       "    </tr>\n",
       "    <tr>\n",
       "      <th>...</th>\n",
       "      <td>...</td>\n",
       "      <td>...</td>\n",
       "      <td>...</td>\n",
       "    </tr>\n",
       "    <tr>\n",
       "      <th>30129</th>\n",
       "      <td>3</td>\n",
       "      <td>7</td>\n",
       "      <td>010010000</td>\n",
       "    </tr>\n",
       "    <tr>\n",
       "      <th>2024</th>\n",
       "      <td>2</td>\n",
       "      <td>3</td>\n",
       "      <td>010000000</td>\n",
       "    </tr>\n",
       "    <tr>\n",
       "      <th>34983</th>\n",
       "      <td>11</td>\n",
       "      <td>others</td>\n",
       "      <td>000100000</td>\n",
       "    </tr>\n",
       "    <tr>\n",
       "      <th>32726</th>\n",
       "      <td>10</td>\n",
       "      <td>10</td>\n",
       "      <td>010001000</td>\n",
       "    </tr>\n",
       "    <tr>\n",
       "      <th>19467</th>\n",
       "      <td>11</td>\n",
       "      <td>10</td>\n",
       "      <td>000011000</td>\n",
       "    </tr>\n",
       "  </tbody>\n",
       "</table>\n",
       "<p>9791 rows × 3 columns</p>\n",
       "</div>"
      ],
      "text/plain": [
       "      campaign_var_1_trim campaign_var_2_trim user_act_trim\n",
       "id                                                         \n",
       "14234                   9                   6     100000110\n",
       "39076                  11                  10     000010000\n",
       "18900              others                   8     000001010\n",
       "38889                  10                   9     000010010\n",
       "24408                   6              others     100000000\n",
       "...                   ...                 ...           ...\n",
       "30129                   3                   7     010010000\n",
       "2024                    2                   3     010000000\n",
       "34983                  11              others     000100000\n",
       "32726                  10                  10     010001000\n",
       "19467                  11                  10     000011000\n",
       "\n",
       "[9791 rows x 3 columns]"
      ]
     },
     "execution_count": 5,
     "metadata": {},
     "output_type": "execute_result"
    }
   ],
   "source": [
    "val.select_dtypes(exclude='number')"
   ]
  },
  {
   "cell_type": "code",
   "execution_count": 6,
   "id": "3febd92a",
   "metadata": {},
   "outputs": [
    {
     "data": {
      "text/html": [
       "<div>\n",
       "<style scoped>\n",
       "    .dataframe tbody tr th:only-of-type {\n",
       "        vertical-align: middle;\n",
       "    }\n",
       "\n",
       "    .dataframe tbody tr th {\n",
       "        vertical-align: top;\n",
       "    }\n",
       "\n",
       "    .dataframe thead th {\n",
       "        text-align: right;\n",
       "    }\n",
       "</style>\n",
       "<table border=\"1\" class=\"dataframe\">\n",
       "  <thead>\n",
       "    <tr style=\"text-align: right;\">\n",
       "      <th></th>\n",
       "      <th>campaign_var_1_trim</th>\n",
       "      <th>campaign_var_2_trim</th>\n",
       "      <th>user_act_trim</th>\n",
       "    </tr>\n",
       "    <tr>\n",
       "      <th>id</th>\n",
       "      <th></th>\n",
       "      <th></th>\n",
       "      <th></th>\n",
       "    </tr>\n",
       "  </thead>\n",
       "  <tbody>\n",
       "    <tr>\n",
       "      <th>39162</th>\n",
       "      <td>2</td>\n",
       "      <td>others</td>\n",
       "      <td>100010010</td>\n",
       "    </tr>\n",
       "    <tr>\n",
       "      <th>39163</th>\n",
       "      <td>4</td>\n",
       "      <td>7</td>\n",
       "      <td>100000100</td>\n",
       "    </tr>\n",
       "    <tr>\n",
       "      <th>39164</th>\n",
       "      <td>8</td>\n",
       "      <td>7</td>\n",
       "      <td>000110000</td>\n",
       "    </tr>\n",
       "    <tr>\n",
       "      <th>39165</th>\n",
       "      <td>9</td>\n",
       "      <td>8</td>\n",
       "      <td>others</td>\n",
       "    </tr>\n",
       "    <tr>\n",
       "      <th>39166</th>\n",
       "      <td>4</td>\n",
       "      <td>5</td>\n",
       "      <td>100000000</td>\n",
       "    </tr>\n",
       "    <tr>\n",
       "      <th>...</th>\n",
       "      <td>...</td>\n",
       "      <td>...</td>\n",
       "      <td>...</td>\n",
       "    </tr>\n",
       "    <tr>\n",
       "      <th>52341</th>\n",
       "      <td>others</td>\n",
       "      <td>others</td>\n",
       "      <td>000011000</td>\n",
       "    </tr>\n",
       "    <tr>\n",
       "      <th>52342</th>\n",
       "      <td>others</td>\n",
       "      <td>8</td>\n",
       "      <td>100010000</td>\n",
       "    </tr>\n",
       "    <tr>\n",
       "      <th>52343</th>\n",
       "      <td>others</td>\n",
       "      <td>others</td>\n",
       "      <td>010001000</td>\n",
       "    </tr>\n",
       "    <tr>\n",
       "      <th>52344</th>\n",
       "      <td>others</td>\n",
       "      <td>10</td>\n",
       "      <td>000001010</td>\n",
       "    </tr>\n",
       "    <tr>\n",
       "      <th>52345</th>\n",
       "      <td>others</td>\n",
       "      <td>others</td>\n",
       "      <td>others</td>\n",
       "    </tr>\n",
       "  </tbody>\n",
       "</table>\n",
       "<p>13184 rows × 3 columns</p>\n",
       "</div>"
      ],
      "text/plain": [
       "      campaign_var_1_trim campaign_var_2_trim user_act_trim\n",
       "id                                                         \n",
       "39162                   2              others     100010010\n",
       "39163                   4                   7     100000100\n",
       "39164                   8                   7     000110000\n",
       "39165                   9                   8        others\n",
       "39166                   4                   5     100000000\n",
       "...                   ...                 ...           ...\n",
       "52341              others              others     000011000\n",
       "52342              others                   8     100010000\n",
       "52343              others              others     010001000\n",
       "52344              others                  10     000001010\n",
       "52345              others              others        others\n",
       "\n",
       "[13184 rows x 3 columns]"
      ]
     },
     "execution_count": 6,
     "metadata": {},
     "output_type": "execute_result"
    }
   ],
   "source": [
    "test.select_dtypes(exclude='number')"
   ]
  },
  {
   "cell_type": "code",
   "execution_count": 7,
   "id": "c7b3a7f0",
   "metadata": {},
   "outputs": [],
   "source": [
    "cols = ['campaign_var_1_trim', 'campaign_var_2_trim', 'user_act_trim']"
   ]
  },
  {
   "cell_type": "code",
   "execution_count": 8,
   "id": "c812fd8e",
   "metadata": {},
   "outputs": [
    {
     "data": {
      "text/plain": [
       "campaign_var_1              0\n",
       "campaign_var_2              0\n",
       "products_purchased          0\n",
       "user_activity_var_1         0\n",
       "user_activity_var_2         0\n",
       "user_activity_var_3         0\n",
       "user_activity_var_4         0\n",
       "user_activity_var_5         0\n",
       "user_activity_var_6         0\n",
       "user_activity_var_7         0\n",
       "user_activity_var_8         0\n",
       "user_activity_var_9         0\n",
       "user_activity_var_10        0\n",
       "user_activity_var_11        0\n",
       "user_activity_var_12        0\n",
       "buy                         0\n",
       "campaign_var_1_trim         0\n",
       "campaign_var_2_trim         0\n",
       "user_act_trim               0\n",
       "created_at_month            0\n",
       "signup_date_presence        0\n",
       "diff                        0\n",
       "campaign_var_1_trim_freq    0\n",
       "campaign_var_2_trim_freq    0\n",
       "user_act_trim_freq          0\n",
       "products_purchased_freq     0\n",
       "created_at_month_freq       0\n",
       "campaign_var_1_trim_tme     0\n",
       "campaign_var_2_trim_tme     0\n",
       "user_act_trim_tme           0\n",
       "products_purchased_tme      0\n",
       "created_at_month_tme        0\n",
       "dtype: int64"
      ]
     },
     "execution_count": 8,
     "metadata": {},
     "output_type": "execute_result"
    }
   ],
   "source": [
    "train.isna().sum()"
   ]
  },
  {
   "cell_type": "code",
   "execution_count": 9,
   "id": "f305b0d3",
   "metadata": {},
   "outputs": [],
   "source": [
    "target = 'buy'"
   ]
  },
  {
   "cell_type": "code",
   "execution_count": 10,
   "id": "a996bf5a",
   "metadata": {},
   "outputs": [],
   "source": [
    "y_train = train.pop(target)\n",
    "X_train = train.copy()"
   ]
  },
  {
   "cell_type": "code",
   "execution_count": 11,
   "id": "b5117c5d",
   "metadata": {},
   "outputs": [],
   "source": [
    "y_val = val.pop(target)\n",
    "X_val = val.copy()"
   ]
  },
  {
   "cell_type": "code",
   "execution_count": 12,
   "id": "0c60adec",
   "metadata": {},
   "outputs": [],
   "source": [
    "# y_test = test.pop(target)\n",
    "X_test = test.copy()"
   ]
  },
  {
   "cell_type": "code",
   "execution_count": 13,
   "id": "b5bdf5b4",
   "metadata": {},
   "outputs": [],
   "source": [
    "# X_train, X_val, y_train, y_val = model_selection.train_test_split(X, y, stratify=y, random_state=42)\n",
    "# X_train.shape, X_val.shape, y_train.shape, y_val.shape"
   ]
  },
  {
   "cell_type": "code",
   "execution_count": 14,
   "id": "171a9e80",
   "metadata": {},
   "outputs": [
    {
     "data": {
      "text/plain": [
       "[0.9489955737146748, 0.051004426285325165]"
      ]
     },
     "execution_count": 14,
     "metadata": {},
     "output_type": "execute_result"
    }
   ],
   "source": [
    "total = y_train.shape[0]\n",
    "pos = y_train.sum()\n",
    "neg = total-pos\n",
    "\n",
    "class_weights = [neg/total, pos/total]\n",
    "class_weights"
   ]
  },
  {
   "cell_type": "code",
   "execution_count": 15,
   "id": "263149ee",
   "metadata": {},
   "outputs": [
    {
     "data": {
      "text/plain": [
       "18.60614152202937"
      ]
     },
     "execution_count": 15,
     "metadata": {},
     "output_type": "execute_result"
    }
   ],
   "source": [
    "pos_weight = neg/pos\n",
    "pos_weight"
   ]
  },
  {
   "cell_type": "code",
   "execution_count": 16,
   "id": "2f804363",
   "metadata": {},
   "outputs": [
    {
     "data": {
      "text/plain": [
       "campaign_var_1                int64\n",
       "campaign_var_2                int64\n",
       "products_purchased          float64\n",
       "user_activity_var_1           int64\n",
       "user_activity_var_2           int64\n",
       "user_activity_var_3           int64\n",
       "user_activity_var_4           int64\n",
       "user_activity_var_5           int64\n",
       "user_activity_var_6           int64\n",
       "user_activity_var_7           int64\n",
       "user_activity_var_8           int64\n",
       "user_activity_var_9           int64\n",
       "user_activity_var_10          int64\n",
       "user_activity_var_11          int64\n",
       "user_activity_var_12          int64\n",
       "campaign_var_1_trim          object\n",
       "campaign_var_2_trim          object\n",
       "user_act_trim                object\n",
       "created_at_month              int64\n",
       "signup_date_presence          int64\n",
       "diff                        float64\n",
       "campaign_var_1_trim_freq    float64\n",
       "campaign_var_2_trim_freq    float64\n",
       "user_act_trim_freq          float64\n",
       "products_purchased_freq     float64\n",
       "created_at_month_freq       float64\n",
       "campaign_var_1_trim_tme     float64\n",
       "campaign_var_2_trim_tme     float64\n",
       "user_act_trim_tme           float64\n",
       "products_purchased_tme      float64\n",
       "created_at_month_tme        float64\n",
       "dtype: object"
      ]
     },
     "execution_count": 16,
     "metadata": {},
     "output_type": "execute_result"
    }
   ],
   "source": [
    "X_train.dtypes"
   ]
  },
  {
   "cell_type": "code",
   "execution_count": 17,
   "id": "5040a62c",
   "metadata": {},
   "outputs": [
    {
     "data": {
      "text/plain": [
       "Index(['campaign_var_1_trim', 'campaign_var_2_trim', 'user_act_trim'], dtype='object')"
      ]
     },
     "execution_count": 17,
     "metadata": {},
     "output_type": "execute_result"
    }
   ],
   "source": [
    "categorical_var = X_train.select_dtypes(exclude='number').columns\n",
    "categorical_var"
   ]
  },
  {
   "cell_type": "code",
   "execution_count": 18,
   "id": "bf199470",
   "metadata": {},
   "outputs": [
    {
     "data": {
      "text/plain": [
       "array([15, 16, 17])"
      ]
     },
     "execution_count": 18,
     "metadata": {},
     "output_type": "execute_result"
    }
   ],
   "source": [
    "cat_idx = np.where(X_train.columns.isin(categorical_var))[0]\n",
    "cat_idx"
   ]
  },
  {
   "cell_type": "code",
   "execution_count": 19,
   "id": "faea93d7",
   "metadata": {},
   "outputs": [
    {
     "data": {
      "text/plain": [
       "<catboost.core.CatBoostClassifier at 0x7f6b720bcd10>"
      ]
     },
     "execution_count": 19,
     "metadata": {},
     "output_type": "execute_result"
    }
   ],
   "source": [
    "model = catboost.CatBoostClassifier(class_weights=class_weights, verbose=2)\n",
    "model"
   ]
  },
  {
   "cell_type": "code",
   "execution_count": 20,
   "id": "abecaf9e",
   "metadata": {},
   "outputs": [
    {
     "name": "stdout",
     "output_type": "stream",
     "text": [
      "Learning rate set to 0.043624\n",
      "0:\tlearn: 0.5733937\ttotal: 60.8ms\tremaining: 1m\n",
      "2:\tlearn: 0.3888251\ttotal: 86.6ms\tremaining: 28.8s\n",
      "4:\tlearn: 0.2621753\ttotal: 113ms\tremaining: 22.6s\n",
      "6:\tlearn: 0.1780163\ttotal: 135ms\tremaining: 19.1s\n",
      "8:\tlearn: 0.1230135\ttotal: 154ms\tremaining: 16.9s\n",
      "10:\tlearn: 0.0879205\ttotal: 175ms\tremaining: 15.7s\n",
      "12:\tlearn: 0.0633985\ttotal: 196ms\tremaining: 14.9s\n",
      "14:\tlearn: 0.0480216\ttotal: 220ms\tremaining: 14.5s\n",
      "16:\tlearn: 0.0380121\ttotal: 246ms\tremaining: 14.2s\n",
      "18:\tlearn: 0.0304895\ttotal: 267ms\tremaining: 13.8s\n",
      "20:\tlearn: 0.0250640\ttotal: 285ms\tremaining: 13.3s\n",
      "22:\tlearn: 0.0211496\ttotal: 304ms\tremaining: 12.9s\n",
      "24:\tlearn: 0.0184081\ttotal: 324ms\tremaining: 12.6s\n",
      "26:\tlearn: 0.0165851\ttotal: 342ms\tremaining: 12.3s\n",
      "28:\tlearn: 0.0151601\ttotal: 361ms\tremaining: 12.1s\n",
      "30:\tlearn: 0.0140962\ttotal: 379ms\tremaining: 11.9s\n",
      "32:\tlearn: 0.0132896\ttotal: 396ms\tremaining: 11.6s\n",
      "34:\tlearn: 0.0126930\ttotal: 413ms\tremaining: 11.4s\n",
      "36:\tlearn: 0.0122555\ttotal: 436ms\tremaining: 11.4s\n",
      "38:\tlearn: 0.0118720\ttotal: 458ms\tremaining: 11.3s\n",
      "40:\tlearn: 0.0115635\ttotal: 479ms\tremaining: 11.2s\n",
      "42:\tlearn: 0.0112807\ttotal: 502ms\tremaining: 11.2s\n",
      "44:\tlearn: 0.0110540\ttotal: 521ms\tremaining: 11.1s\n",
      "46:\tlearn: 0.0108993\ttotal: 541ms\tremaining: 11s\n",
      "48:\tlearn: 0.0107264\ttotal: 565ms\tremaining: 11s\n",
      "50:\tlearn: 0.0105843\ttotal: 584ms\tremaining: 10.9s\n",
      "52:\tlearn: 0.0105078\ttotal: 602ms\tremaining: 10.7s\n",
      "54:\tlearn: 0.0104212\ttotal: 621ms\tremaining: 10.7s\n",
      "56:\tlearn: 0.0103251\ttotal: 641ms\tremaining: 10.6s\n",
      "58:\tlearn: 0.0102618\ttotal: 668ms\tremaining: 10.7s\n",
      "60:\tlearn: 0.0102088\ttotal: 690ms\tremaining: 10.6s\n",
      "62:\tlearn: 0.0101893\ttotal: 716ms\tremaining: 10.6s\n",
      "64:\tlearn: 0.0101467\ttotal: 742ms\tremaining: 10.7s\n",
      "66:\tlearn: 0.0101369\ttotal: 766ms\tremaining: 10.7s\n",
      "68:\tlearn: 0.0101285\ttotal: 789ms\tremaining: 10.6s\n",
      "70:\tlearn: 0.0100872\ttotal: 807ms\tremaining: 10.6s\n",
      "72:\tlearn: 0.0100487\ttotal: 827ms\tremaining: 10.5s\n",
      "74:\tlearn: 0.0100326\ttotal: 847ms\tremaining: 10.4s\n",
      "76:\tlearn: 0.0100278\ttotal: 869ms\tremaining: 10.4s\n",
      "78:\tlearn: 0.0100045\ttotal: 893ms\tremaining: 10.4s\n",
      "80:\tlearn: 0.0100005\ttotal: 915ms\tremaining: 10.4s\n",
      "82:\tlearn: 0.0099967\ttotal: 928ms\tremaining: 10.3s\n",
      "84:\tlearn: 0.0099922\ttotal: 948ms\tremaining: 10.2s\n",
      "86:\tlearn: 0.0099601\ttotal: 968ms\tremaining: 10.2s\n",
      "88:\tlearn: 0.0099569\ttotal: 983ms\tremaining: 10.1s\n",
      "90:\tlearn: 0.0099242\ttotal: 1s\tremaining: 10s\n",
      "92:\tlearn: 0.0099210\ttotal: 1.03s\tremaining: 10.1s\n",
      "94:\tlearn: 0.0099177\ttotal: 1.06s\tremaining: 10.1s\n",
      "96:\tlearn: 0.0099150\ttotal: 1.09s\tremaining: 10.1s\n",
      "98:\tlearn: 0.0098881\ttotal: 1.11s\tremaining: 10.1s\n",
      "100:\tlearn: 0.0098598\ttotal: 1.13s\tremaining: 10s\n",
      "102:\tlearn: 0.0098577\ttotal: 1.15s\tremaining: 10s\n",
      "104:\tlearn: 0.0098431\ttotal: 1.17s\tremaining: 9.94s\n",
      "106:\tlearn: 0.0098404\ttotal: 1.19s\tremaining: 9.89s\n",
      "108:\tlearn: 0.0098189\ttotal: 1.21s\tremaining: 9.88s\n",
      "110:\tlearn: 0.0098168\ttotal: 1.23s\tremaining: 9.87s\n",
      "112:\tlearn: 0.0097961\ttotal: 1.25s\tremaining: 9.8s\n",
      "114:\tlearn: 0.0097739\ttotal: 1.27s\tremaining: 9.8s\n",
      "116:\tlearn: 0.0097522\ttotal: 1.29s\tremaining: 9.78s\n",
      "118:\tlearn: 0.0097500\ttotal: 1.31s\tremaining: 9.71s\n",
      "120:\tlearn: 0.0097481\ttotal: 1.33s\tremaining: 9.66s\n",
      "122:\tlearn: 0.0097306\ttotal: 1.35s\tremaining: 9.61s\n",
      "124:\tlearn: 0.0097156\ttotal: 1.36s\tremaining: 9.56s\n",
      "126:\tlearn: 0.0097141\ttotal: 1.38s\tremaining: 9.51s\n",
      "128:\tlearn: 0.0097125\ttotal: 1.4s\tremaining: 9.45s\n",
      "130:\tlearn: 0.0096920\ttotal: 1.42s\tremaining: 9.4s\n",
      "132:\tlearn: 0.0096843\ttotal: 1.43s\tremaining: 9.35s\n",
      "134:\tlearn: 0.0096824\ttotal: 1.45s\tremaining: 9.29s\n",
      "136:\tlearn: 0.0096596\ttotal: 1.47s\tremaining: 9.24s\n",
      "138:\tlearn: 0.0096584\ttotal: 1.49s\tremaining: 9.25s\n",
      "140:\tlearn: 0.0096418\ttotal: 1.51s\tremaining: 9.22s\n",
      "142:\tlearn: 0.0096404\ttotal: 1.53s\tremaining: 9.17s\n",
      "144:\tlearn: 0.0096334\ttotal: 1.55s\tremaining: 9.14s\n",
      "146:\tlearn: 0.0096116\ttotal: 1.57s\tremaining: 9.11s\n",
      "148:\tlearn: 0.0096101\ttotal: 1.59s\tremaining: 9.07s\n",
      "150:\tlearn: 0.0096038\ttotal: 1.6s\tremaining: 9.02s\n",
      "152:\tlearn: 0.0096026\ttotal: 1.62s\tremaining: 8.98s\n",
      "154:\tlearn: 0.0095892\ttotal: 1.64s\tremaining: 8.95s\n",
      "156:\tlearn: 0.0095880\ttotal: 1.66s\tremaining: 8.92s\n",
      "158:\tlearn: 0.0095867\ttotal: 1.69s\tremaining: 8.93s\n",
      "160:\tlearn: 0.0095854\ttotal: 1.72s\tremaining: 8.95s\n",
      "162:\tlearn: 0.0095844\ttotal: 1.74s\tremaining: 8.96s\n",
      "164:\tlearn: 0.0095832\ttotal: 1.76s\tremaining: 8.94s\n",
      "166:\tlearn: 0.0095728\ttotal: 1.78s\tremaining: 8.9s\n",
      "168:\tlearn: 0.0095599\ttotal: 1.83s\tremaining: 8.99s\n",
      "170:\tlearn: 0.0095545\ttotal: 1.87s\tremaining: 9.05s\n",
      "172:\tlearn: 0.0095539\ttotal: 1.9s\tremaining: 9.08s\n",
      "174:\tlearn: 0.0095532\ttotal: 1.93s\tremaining: 9.09s\n",
      "176:\tlearn: 0.0095363\ttotal: 1.95s\tremaining: 9.09s\n",
      "178:\tlearn: 0.0095353\ttotal: 1.98s\tremaining: 9.08s\n",
      "180:\tlearn: 0.0095171\ttotal: 2s\tremaining: 9.05s\n",
      "182:\tlearn: 0.0095164\ttotal: 2.03s\tremaining: 9.06s\n",
      "184:\tlearn: 0.0095157\ttotal: 2.05s\tremaining: 9.05s\n",
      "186:\tlearn: 0.0095102\ttotal: 2.08s\tremaining: 9.03s\n",
      "188:\tlearn: 0.0095092\ttotal: 2.1s\tremaining: 9.01s\n",
      "190:\tlearn: 0.0094925\ttotal: 2.12s\tremaining: 8.99s\n",
      "192:\tlearn: 0.0094919\ttotal: 2.14s\tremaining: 8.95s\n",
      "194:\tlearn: 0.0094880\ttotal: 2.16s\tremaining: 8.92s\n",
      "196:\tlearn: 0.0094829\ttotal: 2.18s\tremaining: 8.88s\n",
      "198:\tlearn: 0.0094758\ttotal: 2.2s\tremaining: 8.85s\n",
      "200:\tlearn: 0.0094750\ttotal: 2.22s\tremaining: 8.81s\n",
      "202:\tlearn: 0.0094743\ttotal: 2.23s\tremaining: 8.77s\n",
      "204:\tlearn: 0.0094677\ttotal: 2.25s\tremaining: 8.73s\n",
      "206:\tlearn: 0.0094541\ttotal: 2.27s\tremaining: 8.71s\n",
      "208:\tlearn: 0.0094424\ttotal: 2.29s\tremaining: 8.68s\n",
      "210:\tlearn: 0.0094419\ttotal: 2.31s\tremaining: 8.65s\n",
      "212:\tlearn: 0.0094415\ttotal: 2.33s\tremaining: 8.6s\n",
      "214:\tlearn: 0.0094408\ttotal: 2.35s\tremaining: 8.56s\n",
      "216:\tlearn: 0.0094402\ttotal: 2.37s\tremaining: 8.53s\n",
      "218:\tlearn: 0.0094339\ttotal: 2.38s\tremaining: 8.51s\n",
      "220:\tlearn: 0.0094334\ttotal: 2.4s\tremaining: 8.47s\n",
      "222:\tlearn: 0.0094257\ttotal: 2.42s\tremaining: 8.45s\n",
      "224:\tlearn: 0.0094251\ttotal: 2.44s\tremaining: 8.4s\n",
      "226:\tlearn: 0.0094248\ttotal: 2.46s\tremaining: 8.37s\n",
      "228:\tlearn: 0.0094245\ttotal: 2.48s\tremaining: 8.34s\n",
      "230:\tlearn: 0.0094241\ttotal: 2.49s\tremaining: 8.3s\n",
      "232:\tlearn: 0.0094120\ttotal: 2.51s\tremaining: 8.28s\n",
      "234:\tlearn: 0.0094089\ttotal: 2.53s\tremaining: 8.25s\n",
      "236:\tlearn: 0.0094072\ttotal: 2.56s\tremaining: 8.22s\n",
      "238:\tlearn: 0.0094046\ttotal: 2.57s\tremaining: 8.2s\n",
      "240:\tlearn: 0.0094043\ttotal: 2.59s\tremaining: 8.17s\n",
      "242:\tlearn: 0.0094039\ttotal: 2.61s\tremaining: 8.13s\n",
      "244:\tlearn: 0.0094011\ttotal: 2.63s\tremaining: 8.11s\n",
      "246:\tlearn: 0.0093990\ttotal: 2.65s\tremaining: 8.09s\n",
      "248:\tlearn: 0.0093986\ttotal: 2.68s\tremaining: 8.08s\n",
      "250:\tlearn: 0.0093794\ttotal: 2.71s\tremaining: 8.08s\n",
      "252:\tlearn: 0.0093730\ttotal: 2.73s\tremaining: 8.07s\n",
      "254:\tlearn: 0.0093726\ttotal: 2.76s\tremaining: 8.06s\n",
      "256:\tlearn: 0.0093572\ttotal: 2.79s\tremaining: 8.05s\n",
      "258:\tlearn: 0.0093570\ttotal: 2.81s\tremaining: 8.03s\n",
      "260:\tlearn: 0.0093517\ttotal: 2.83s\tremaining: 8s\n",
      "262:\tlearn: 0.0093512\ttotal: 2.85s\tremaining: 7.98s\n",
      "264:\tlearn: 0.0093484\ttotal: 2.87s\tremaining: 7.96s\n",
      "266:\tlearn: 0.0093481\ttotal: 2.89s\tremaining: 7.95s\n",
      "268:\tlearn: 0.0093469\ttotal: 2.91s\tremaining: 7.92s\n",
      "270:\tlearn: 0.0093459\ttotal: 2.93s\tremaining: 7.89s\n",
      "272:\tlearn: 0.0093405\ttotal: 2.96s\tremaining: 7.87s\n",
      "274:\tlearn: 0.0093366\ttotal: 2.98s\tremaining: 7.85s\n",
      "276:\tlearn: 0.0093322\ttotal: 3s\tremaining: 7.82s\n",
      "278:\tlearn: 0.0093305\ttotal: 3.02s\tremaining: 7.79s\n",
      "280:\tlearn: 0.0093290\ttotal: 3.03s\tremaining: 7.76s\n",
      "282:\tlearn: 0.0093280\ttotal: 3.06s\tremaining: 7.74s\n",
      "284:\tlearn: 0.0093271\ttotal: 3.08s\tremaining: 7.71s\n",
      "286:\tlearn: 0.0093248\ttotal: 3.1s\tremaining: 7.69s\n",
      "288:\tlearn: 0.0093208\ttotal: 3.12s\tremaining: 7.66s\n",
      "290:\tlearn: 0.0093190\ttotal: 3.13s\tremaining: 7.63s\n",
      "292:\tlearn: 0.0093173\ttotal: 3.15s\tremaining: 7.61s\n",
      "294:\tlearn: 0.0093159\ttotal: 3.17s\tremaining: 7.59s\n",
      "296:\tlearn: 0.0093141\ttotal: 3.2s\tremaining: 7.57s\n",
      "298:\tlearn: 0.0093138\ttotal: 3.21s\tremaining: 7.53s\n",
      "300:\tlearn: 0.0093083\ttotal: 3.23s\tremaining: 7.51s\n",
      "302:\tlearn: 0.0093076\ttotal: 3.25s\tremaining: 7.49s\n",
      "304:\tlearn: 0.0093031\ttotal: 3.27s\tremaining: 7.46s\n",
      "306:\tlearn: 0.0093005\ttotal: 3.29s\tremaining: 7.43s\n",
      "308:\tlearn: 0.0092952\ttotal: 3.31s\tremaining: 7.41s\n",
      "310:\tlearn: 0.0092913\ttotal: 3.33s\tremaining: 7.38s\n",
      "312:\tlearn: 0.0092911\ttotal: 3.35s\tremaining: 7.36s\n",
      "314:\tlearn: 0.0092909\ttotal: 3.37s\tremaining: 7.33s\n",
      "316:\tlearn: 0.0092896\ttotal: 3.39s\tremaining: 7.3s\n"
     ]
    },
    {
     "name": "stdout",
     "output_type": "stream",
     "text": [
      "318:\tlearn: 0.0092893\ttotal: 3.41s\tremaining: 7.28s\n",
      "320:\tlearn: 0.0092840\ttotal: 3.43s\tremaining: 7.26s\n",
      "322:\tlearn: 0.0092795\ttotal: 3.46s\tremaining: 7.24s\n",
      "324:\tlearn: 0.0092789\ttotal: 3.47s\tremaining: 7.21s\n",
      "326:\tlearn: 0.0092715\ttotal: 3.49s\tremaining: 7.19s\n",
      "328:\tlearn: 0.0092681\ttotal: 3.52s\tremaining: 7.17s\n",
      "330:\tlearn: 0.0092680\ttotal: 3.54s\tremaining: 7.14s\n",
      "332:\tlearn: 0.0092674\ttotal: 3.56s\tremaining: 7.12s\n",
      "334:\tlearn: 0.0092611\ttotal: 3.58s\tremaining: 7.1s\n",
      "336:\tlearn: 0.0092552\ttotal: 3.6s\tremaining: 7.09s\n",
      "338:\tlearn: 0.0092509\ttotal: 3.63s\tremaining: 7.08s\n",
      "340:\tlearn: 0.0092435\ttotal: 3.66s\tremaining: 7.08s\n",
      "342:\tlearn: 0.0092434\ttotal: 3.69s\tremaining: 7.07s\n",
      "344:\tlearn: 0.0092432\ttotal: 3.72s\tremaining: 7.06s\n",
      "346:\tlearn: 0.0092430\ttotal: 3.74s\tremaining: 7.03s\n",
      "348:\tlearn: 0.0092374\ttotal: 3.76s\tremaining: 7.01s\n",
      "350:\tlearn: 0.0092365\ttotal: 3.78s\tremaining: 6.98s\n",
      "352:\tlearn: 0.0092351\ttotal: 3.8s\tremaining: 6.96s\n",
      "354:\tlearn: 0.0092344\ttotal: 3.82s\tremaining: 6.93s\n",
      "356:\tlearn: 0.0092307\ttotal: 3.84s\tremaining: 6.92s\n",
      "358:\tlearn: 0.0092306\ttotal: 3.86s\tremaining: 6.89s\n",
      "360:\tlearn: 0.0092290\ttotal: 3.88s\tremaining: 6.88s\n",
      "362:\tlearn: 0.0092275\ttotal: 3.91s\tremaining: 6.86s\n",
      "364:\tlearn: 0.0092262\ttotal: 3.93s\tremaining: 6.83s\n",
      "366:\tlearn: 0.0092249\ttotal: 3.94s\tremaining: 6.8s\n",
      "368:\tlearn: 0.0092243\ttotal: 3.96s\tremaining: 6.78s\n",
      "370:\tlearn: 0.0092242\ttotal: 3.98s\tremaining: 6.75s\n",
      "372:\tlearn: 0.0092226\ttotal: 4s\tremaining: 6.73s\n",
      "374:\tlearn: 0.0092221\ttotal: 4.02s\tremaining: 6.7s\n",
      "376:\tlearn: 0.0092220\ttotal: 4.04s\tremaining: 6.68s\n",
      "378:\tlearn: 0.0092171\ttotal: 4.06s\tremaining: 6.66s\n",
      "380:\tlearn: 0.0092169\ttotal: 4.08s\tremaining: 6.63s\n",
      "382:\tlearn: 0.0092123\ttotal: 4.1s\tremaining: 6.61s\n",
      "384:\tlearn: 0.0092123\ttotal: 4.12s\tremaining: 6.58s\n",
      "386:\tlearn: 0.0092114\ttotal: 4.14s\tremaining: 6.56s\n",
      "388:\tlearn: 0.0092027\ttotal: 4.16s\tremaining: 6.54s\n",
      "390:\tlearn: 0.0092026\ttotal: 4.19s\tremaining: 6.53s\n",
      "392:\tlearn: 0.0092011\ttotal: 4.22s\tremaining: 6.53s\n",
      "394:\tlearn: 0.0091981\ttotal: 4.25s\tremaining: 6.51s\n",
      "396:\tlearn: 0.0091973\ttotal: 4.27s\tremaining: 6.49s\n",
      "398:\tlearn: 0.0091934\ttotal: 4.29s\tremaining: 6.47s\n",
      "400:\tlearn: 0.0091933\ttotal: 4.31s\tremaining: 6.44s\n",
      "402:\tlearn: 0.0091895\ttotal: 4.33s\tremaining: 6.42s\n",
      "404:\tlearn: 0.0091867\ttotal: 4.35s\tremaining: 6.4s\n",
      "406:\tlearn: 0.0091863\ttotal: 4.37s\tremaining: 6.37s\n",
      "408:\tlearn: 0.0091855\ttotal: 4.39s\tremaining: 6.35s\n",
      "410:\tlearn: 0.0091807\ttotal: 4.42s\tremaining: 6.33s\n",
      "412:\tlearn: 0.0091788\ttotal: 4.44s\tremaining: 6.31s\n",
      "414:\tlearn: 0.0091787\ttotal: 4.46s\tremaining: 6.28s\n",
      "416:\tlearn: 0.0091771\ttotal: 4.48s\tremaining: 6.26s\n",
      "418:\tlearn: 0.0091770\ttotal: 4.5s\tremaining: 6.24s\n",
      "420:\tlearn: 0.0091700\ttotal: 4.53s\tremaining: 6.23s\n",
      "422:\tlearn: 0.0091669\ttotal: 4.55s\tremaining: 6.21s\n",
      "424:\tlearn: 0.0091631\ttotal: 4.57s\tremaining: 6.18s\n",
      "426:\tlearn: 0.0091620\ttotal: 4.59s\tremaining: 6.16s\n",
      "428:\tlearn: 0.0091583\ttotal: 4.61s\tremaining: 6.13s\n",
      "430:\tlearn: 0.0091556\ttotal: 4.63s\tremaining: 6.11s\n",
      "432:\tlearn: 0.0091531\ttotal: 4.65s\tremaining: 6.09s\n",
      "434:\tlearn: 0.0091516\ttotal: 4.68s\tremaining: 6.08s\n",
      "436:\tlearn: 0.0091505\ttotal: 4.71s\tremaining: 6.07s\n",
      "438:\tlearn: 0.0091457\ttotal: 4.74s\tremaining: 6.06s\n",
      "440:\tlearn: 0.0091456\ttotal: 4.76s\tremaining: 6.03s\n",
      "442:\tlearn: 0.0091447\ttotal: 4.78s\tremaining: 6.01s\n",
      "444:\tlearn: 0.0091447\ttotal: 4.79s\tremaining: 5.98s\n",
      "446:\tlearn: 0.0091446\ttotal: 4.8s\tremaining: 5.95s\n",
      "448:\tlearn: 0.0091446\ttotal: 4.82s\tremaining: 5.92s\n",
      "450:\tlearn: 0.0091401\ttotal: 4.84s\tremaining: 5.89s\n",
      "452:\tlearn: 0.0091400\ttotal: 4.86s\tremaining: 5.87s\n",
      "454:\tlearn: 0.0091367\ttotal: 4.88s\tremaining: 5.85s\n",
      "456:\tlearn: 0.0091350\ttotal: 4.9s\tremaining: 5.82s\n",
      "458:\tlearn: 0.0091349\ttotal: 4.91s\tremaining: 5.79s\n",
      "460:\tlearn: 0.0091344\ttotal: 4.93s\tremaining: 5.76s\n",
      "462:\tlearn: 0.0091320\ttotal: 4.95s\tremaining: 5.74s\n",
      "464:\tlearn: 0.0091271\ttotal: 4.97s\tremaining: 5.72s\n",
      "466:\tlearn: 0.0091252\ttotal: 4.99s\tremaining: 5.7s\n",
      "468:\tlearn: 0.0091247\ttotal: 5.01s\tremaining: 5.67s\n",
      "470:\tlearn: 0.0091220\ttotal: 5.04s\tremaining: 5.66s\n",
      "472:\tlearn: 0.0091219\ttotal: 5.05s\tremaining: 5.63s\n",
      "474:\tlearn: 0.0091206\ttotal: 5.07s\tremaining: 5.6s\n",
      "476:\tlearn: 0.0091205\ttotal: 5.09s\tremaining: 5.58s\n",
      "478:\tlearn: 0.0091199\ttotal: 5.11s\tremaining: 5.56s\n",
      "480:\tlearn: 0.0091198\ttotal: 5.13s\tremaining: 5.53s\n",
      "482:\tlearn: 0.0091198\ttotal: 5.14s\tremaining: 5.5s\n",
      "484:\tlearn: 0.0091174\ttotal: 5.16s\tremaining: 5.48s\n",
      "486:\tlearn: 0.0091148\ttotal: 5.18s\tremaining: 5.45s\n",
      "488:\tlearn: 0.0091137\ttotal: 5.2s\tremaining: 5.43s\n",
      "490:\tlearn: 0.0091137\ttotal: 5.21s\tremaining: 5.41s\n",
      "492:\tlearn: 0.0091072\ttotal: 5.23s\tremaining: 5.38s\n",
      "494:\tlearn: 0.0091062\ttotal: 5.25s\tremaining: 5.36s\n",
      "496:\tlearn: 0.0091019\ttotal: 5.27s\tremaining: 5.34s\n",
      "498:\tlearn: 0.0091005\ttotal: 5.29s\tremaining: 5.31s\n",
      "500:\tlearn: 0.0090980\ttotal: 5.32s\tremaining: 5.29s\n",
      "502:\tlearn: 0.0090963\ttotal: 5.34s\tremaining: 5.27s\n",
      "504:\tlearn: 0.0090955\ttotal: 5.36s\tremaining: 5.25s\n",
      "506:\tlearn: 0.0090937\ttotal: 5.38s\tremaining: 5.23s\n",
      "508:\tlearn: 0.0090922\ttotal: 5.4s\tremaining: 5.21s\n",
      "510:\tlearn: 0.0090897\ttotal: 5.42s\tremaining: 5.19s\n",
      "512:\tlearn: 0.0090892\ttotal: 5.46s\tremaining: 5.18s\n",
      "514:\tlearn: 0.0090890\ttotal: 5.49s\tremaining: 5.17s\n",
      "516:\tlearn: 0.0090888\ttotal: 5.52s\tremaining: 5.16s\n",
      "518:\tlearn: 0.0090849\ttotal: 5.55s\tremaining: 5.14s\n",
      "520:\tlearn: 0.0090791\ttotal: 5.57s\tremaining: 5.12s\n",
      "522:\tlearn: 0.0090777\ttotal: 5.61s\tremaining: 5.11s\n",
      "524:\tlearn: 0.0090769\ttotal: 5.64s\tremaining: 5.11s\n",
      "526:\tlearn: 0.0090741\ttotal: 5.68s\tremaining: 5.1s\n",
      "528:\tlearn: 0.0090728\ttotal: 5.71s\tremaining: 5.08s\n",
      "530:\tlearn: 0.0090715\ttotal: 5.74s\tremaining: 5.07s\n",
      "532:\tlearn: 0.0090706\ttotal: 5.77s\tremaining: 5.05s\n",
      "534:\tlearn: 0.0090704\ttotal: 5.78s\tremaining: 5.03s\n",
      "536:\tlearn: 0.0090680\ttotal: 5.8s\tremaining: 5s\n",
      "538:\tlearn: 0.0090666\ttotal: 5.82s\tremaining: 4.98s\n",
      "540:\tlearn: 0.0090666\ttotal: 5.84s\tremaining: 4.95s\n",
      "542:\tlearn: 0.0090650\ttotal: 5.86s\tremaining: 4.93s\n",
      "544:\tlearn: 0.0090650\ttotal: 5.88s\tremaining: 4.91s\n",
      "546:\tlearn: 0.0090649\ttotal: 5.9s\tremaining: 4.88s\n",
      "548:\tlearn: 0.0090627\ttotal: 5.92s\tremaining: 4.86s\n",
      "550:\tlearn: 0.0090627\ttotal: 5.93s\tremaining: 4.83s\n",
      "552:\tlearn: 0.0090601\ttotal: 5.95s\tremaining: 4.81s\n",
      "554:\tlearn: 0.0090595\ttotal: 5.97s\tremaining: 4.79s\n",
      "556:\tlearn: 0.0090589\ttotal: 5.99s\tremaining: 4.76s\n",
      "558:\tlearn: 0.0090585\ttotal: 6.01s\tremaining: 4.74s\n",
      "560:\tlearn: 0.0090585\ttotal: 6.03s\tremaining: 4.72s\n",
      "562:\tlearn: 0.0090574\ttotal: 6.04s\tremaining: 4.69s\n",
      "564:\tlearn: 0.0090570\ttotal: 6.06s\tremaining: 4.67s\n",
      "566:\tlearn: 0.0090566\ttotal: 6.08s\tremaining: 4.64s\n",
      "568:\tlearn: 0.0090563\ttotal: 6.09s\tremaining: 4.62s\n",
      "570:\tlearn: 0.0090558\ttotal: 6.11s\tremaining: 4.59s\n",
      "572:\tlearn: 0.0090551\ttotal: 6.13s\tremaining: 4.57s\n",
      "574:\tlearn: 0.0090547\ttotal: 6.15s\tremaining: 4.55s\n",
      "576:\tlearn: 0.0090537\ttotal: 6.17s\tremaining: 4.52s\n",
      "578:\tlearn: 0.0090525\ttotal: 6.19s\tremaining: 4.5s\n",
      "580:\tlearn: 0.0090525\ttotal: 6.2s\tremaining: 4.47s\n",
      "582:\tlearn: 0.0090476\ttotal: 6.22s\tremaining: 4.45s\n",
      "584:\tlearn: 0.0090476\ttotal: 6.24s\tremaining: 4.43s\n",
      "586:\tlearn: 0.0090411\ttotal: 6.26s\tremaining: 4.4s\n",
      "588:\tlearn: 0.0090410\ttotal: 6.28s\tremaining: 4.38s\n",
      "590:\tlearn: 0.0090409\ttotal: 6.29s\tremaining: 4.35s\n",
      "592:\tlearn: 0.0090388\ttotal: 6.31s\tremaining: 4.33s\n",
      "594:\tlearn: 0.0090365\ttotal: 6.33s\tremaining: 4.31s\n",
      "596:\tlearn: 0.0090355\ttotal: 6.35s\tremaining: 4.29s\n",
      "598:\tlearn: 0.0090338\ttotal: 6.37s\tremaining: 4.27s\n",
      "600:\tlearn: 0.0090291\ttotal: 6.39s\tremaining: 4.24s\n",
      "602:\tlearn: 0.0090291\ttotal: 6.41s\tremaining: 4.22s\n",
      "604:\tlearn: 0.0090290\ttotal: 6.43s\tremaining: 4.2s\n",
      "606:\tlearn: 0.0090289\ttotal: 6.45s\tremaining: 4.17s\n",
      "608:\tlearn: 0.0090237\ttotal: 6.47s\tremaining: 4.15s\n",
      "610:\tlearn: 0.0090216\ttotal: 6.49s\tremaining: 4.13s\n",
      "612:\tlearn: 0.0090211\ttotal: 6.51s\tremaining: 4.11s\n",
      "614:\tlearn: 0.0090210\ttotal: 6.53s\tremaining: 4.08s\n",
      "616:\tlearn: 0.0090210\ttotal: 6.55s\tremaining: 4.06s\n",
      "618:\tlearn: 0.0090188\ttotal: 6.57s\tremaining: 4.04s\n",
      "620:\tlearn: 0.0090184\ttotal: 6.59s\tremaining: 4.02s\n",
      "622:\tlearn: 0.0090184\ttotal: 6.61s\tremaining: 4s\n",
      "624:\tlearn: 0.0090183\ttotal: 6.63s\tremaining: 3.98s\n",
      "626:\tlearn: 0.0090174\ttotal: 6.66s\tremaining: 3.96s\n",
      "628:\tlearn: 0.0090174\ttotal: 6.68s\tremaining: 3.94s\n",
      "630:\tlearn: 0.0090160\ttotal: 6.71s\tremaining: 3.92s\n",
      "632:\tlearn: 0.0090149\ttotal: 6.74s\tremaining: 3.91s\n",
      "634:\tlearn: 0.0090147\ttotal: 6.76s\tremaining: 3.89s\n"
     ]
    },
    {
     "name": "stdout",
     "output_type": "stream",
     "text": [
      "636:\tlearn: 0.0090138\ttotal: 6.79s\tremaining: 3.87s\n",
      "638:\tlearn: 0.0090134\ttotal: 6.81s\tremaining: 3.85s\n",
      "640:\tlearn: 0.0090090\ttotal: 6.83s\tremaining: 3.83s\n",
      "642:\tlearn: 0.0090085\ttotal: 6.85s\tremaining: 3.8s\n",
      "644:\tlearn: 0.0090080\ttotal: 6.87s\tremaining: 3.78s\n",
      "646:\tlearn: 0.0090079\ttotal: 6.89s\tremaining: 3.76s\n",
      "648:\tlearn: 0.0090079\ttotal: 6.91s\tremaining: 3.73s\n",
      "650:\tlearn: 0.0090057\ttotal: 6.93s\tremaining: 3.72s\n",
      "652:\tlearn: 0.0090056\ttotal: 6.95s\tremaining: 3.69s\n",
      "654:\tlearn: 0.0090025\ttotal: 6.97s\tremaining: 3.67s\n",
      "656:\tlearn: 0.0089988\ttotal: 6.99s\tremaining: 3.65s\n",
      "658:\tlearn: 0.0089987\ttotal: 7.01s\tremaining: 3.63s\n",
      "660:\tlearn: 0.0089987\ttotal: 7.03s\tremaining: 3.6s\n",
      "662:\tlearn: 0.0089976\ttotal: 7.05s\tremaining: 3.58s\n",
      "664:\tlearn: 0.0089932\ttotal: 7.07s\tremaining: 3.56s\n",
      "666:\tlearn: 0.0089931\ttotal: 7.09s\tremaining: 3.54s\n",
      "668:\tlearn: 0.0089931\ttotal: 7.11s\tremaining: 3.52s\n",
      "670:\tlearn: 0.0089923\ttotal: 7.13s\tremaining: 3.49s\n",
      "672:\tlearn: 0.0089922\ttotal: 7.14s\tremaining: 3.47s\n",
      "674:\tlearn: 0.0089884\ttotal: 7.16s\tremaining: 3.45s\n",
      "676:\tlearn: 0.0089880\ttotal: 7.18s\tremaining: 3.43s\n",
      "678:\tlearn: 0.0089854\ttotal: 7.2s\tremaining: 3.4s\n",
      "680:\tlearn: 0.0089848\ttotal: 7.22s\tremaining: 3.38s\n",
      "682:\tlearn: 0.0089847\ttotal: 7.24s\tremaining: 3.36s\n",
      "684:\tlearn: 0.0089809\ttotal: 7.26s\tremaining: 3.34s\n",
      "686:\tlearn: 0.0089795\ttotal: 7.28s\tremaining: 3.32s\n",
      "688:\tlearn: 0.0089758\ttotal: 7.3s\tremaining: 3.29s\n",
      "690:\tlearn: 0.0089752\ttotal: 7.32s\tremaining: 3.27s\n",
      "692:\tlearn: 0.0089735\ttotal: 7.34s\tremaining: 3.25s\n",
      "694:\tlearn: 0.0089734\ttotal: 7.36s\tremaining: 3.23s\n",
      "696:\tlearn: 0.0089699\ttotal: 7.38s\tremaining: 3.21s\n",
      "698:\tlearn: 0.0089658\ttotal: 7.4s\tremaining: 3.19s\n",
      "700:\tlearn: 0.0089658\ttotal: 7.41s\tremaining: 3.16s\n",
      "702:\tlearn: 0.0089650\ttotal: 7.43s\tremaining: 3.14s\n",
      "704:\tlearn: 0.0089650\ttotal: 7.45s\tremaining: 3.12s\n",
      "706:\tlearn: 0.0089641\ttotal: 7.47s\tremaining: 3.1s\n",
      "708:\tlearn: 0.0089637\ttotal: 7.49s\tremaining: 3.07s\n",
      "710:\tlearn: 0.0089634\ttotal: 7.5s\tremaining: 3.05s\n",
      "712:\tlearn: 0.0089596\ttotal: 7.53s\tremaining: 3.03s\n",
      "714:\tlearn: 0.0089595\ttotal: 7.54s\tremaining: 3.01s\n",
      "716:\tlearn: 0.0089586\ttotal: 7.57s\tremaining: 2.99s\n",
      "718:\tlearn: 0.0089553\ttotal: 7.58s\tremaining: 2.96s\n",
      "720:\tlearn: 0.0089523\ttotal: 7.61s\tremaining: 2.94s\n",
      "722:\tlearn: 0.0089523\ttotal: 7.63s\tremaining: 2.92s\n",
      "724:\tlearn: 0.0089522\ttotal: 7.66s\tremaining: 2.9s\n",
      "726:\tlearn: 0.0089522\ttotal: 7.68s\tremaining: 2.88s\n",
      "728:\tlearn: 0.0089522\ttotal: 7.7s\tremaining: 2.86s\n",
      "730:\tlearn: 0.0089521\ttotal: 7.72s\tremaining: 2.84s\n",
      "732:\tlearn: 0.0089461\ttotal: 7.74s\tremaining: 2.82s\n",
      "734:\tlearn: 0.0089451\ttotal: 7.76s\tremaining: 2.8s\n",
      "736:\tlearn: 0.0089395\ttotal: 7.79s\tremaining: 2.78s\n",
      "738:\tlearn: 0.0089373\ttotal: 7.81s\tremaining: 2.76s\n",
      "740:\tlearn: 0.0089372\ttotal: 7.83s\tremaining: 2.73s\n",
      "742:\tlearn: 0.0089339\ttotal: 7.84s\tremaining: 2.71s\n",
      "744:\tlearn: 0.0089318\ttotal: 7.87s\tremaining: 2.69s\n",
      "746:\tlearn: 0.0089303\ttotal: 7.89s\tremaining: 2.67s\n",
      "748:\tlearn: 0.0089280\ttotal: 7.91s\tremaining: 2.65s\n",
      "750:\tlearn: 0.0089178\ttotal: 7.93s\tremaining: 2.63s\n",
      "752:\tlearn: 0.0089144\ttotal: 7.94s\tremaining: 2.61s\n",
      "754:\tlearn: 0.0089057\ttotal: 7.96s\tremaining: 2.58s\n",
      "756:\tlearn: 0.0089050\ttotal: 7.98s\tremaining: 2.56s\n",
      "758:\tlearn: 0.0089010\ttotal: 8s\tremaining: 2.54s\n",
      "760:\tlearn: 0.0088989\ttotal: 8.02s\tremaining: 2.52s\n",
      "762:\tlearn: 0.0088980\ttotal: 8.04s\tremaining: 2.5s\n",
      "764:\tlearn: 0.0088948\ttotal: 8.06s\tremaining: 2.48s\n",
      "766:\tlearn: 0.0088947\ttotal: 8.08s\tremaining: 2.46s\n",
      "768:\tlearn: 0.0088919\ttotal: 8.1s\tremaining: 2.43s\n",
      "770:\tlearn: 0.0088907\ttotal: 8.12s\tremaining: 2.41s\n",
      "772:\tlearn: 0.0088893\ttotal: 8.14s\tremaining: 2.39s\n",
      "774:\tlearn: 0.0088868\ttotal: 8.16s\tremaining: 2.37s\n",
      "776:\tlearn: 0.0088844\ttotal: 8.18s\tremaining: 2.35s\n",
      "778:\tlearn: 0.0088842\ttotal: 8.2s\tremaining: 2.33s\n",
      "780:\tlearn: 0.0088828\ttotal: 8.21s\tremaining: 2.3s\n",
      "782:\tlearn: 0.0088800\ttotal: 8.23s\tremaining: 2.28s\n",
      "784:\tlearn: 0.0088800\ttotal: 8.25s\tremaining: 2.26s\n",
      "786:\tlearn: 0.0088788\ttotal: 8.27s\tremaining: 2.24s\n",
      "788:\tlearn: 0.0088786\ttotal: 8.29s\tremaining: 2.22s\n",
      "790:\tlearn: 0.0088766\ttotal: 8.32s\tremaining: 2.2s\n",
      "792:\tlearn: 0.0088748\ttotal: 8.34s\tremaining: 2.18s\n",
      "794:\tlearn: 0.0088722\ttotal: 8.37s\tremaining: 2.16s\n",
      "796:\tlearn: 0.0088720\ttotal: 8.39s\tremaining: 2.14s\n",
      "798:\tlearn: 0.0088717\ttotal: 8.42s\tremaining: 2.12s\n",
      "800:\tlearn: 0.0088715\ttotal: 8.45s\tremaining: 2.1s\n",
      "802:\tlearn: 0.0088689\ttotal: 8.47s\tremaining: 2.08s\n",
      "804:\tlearn: 0.0088689\ttotal: 8.5s\tremaining: 2.06s\n",
      "806:\tlearn: 0.0088686\ttotal: 8.53s\tremaining: 2.04s\n",
      "808:\tlearn: 0.0088661\ttotal: 8.56s\tremaining: 2.02s\n",
      "810:\tlearn: 0.0088645\ttotal: 8.59s\tremaining: 2s\n",
      "812:\tlearn: 0.0088631\ttotal: 8.62s\tremaining: 1.98s\n",
      "814:\tlearn: 0.0088557\ttotal: 8.64s\tremaining: 1.96s\n",
      "816:\tlearn: 0.0088545\ttotal: 8.67s\tremaining: 1.94s\n",
      "818:\tlearn: 0.0088527\ttotal: 8.7s\tremaining: 1.92s\n",
      "820:\tlearn: 0.0088524\ttotal: 8.73s\tremaining: 1.9s\n",
      "822:\tlearn: 0.0088522\ttotal: 8.75s\tremaining: 1.88s\n",
      "824:\tlearn: 0.0088456\ttotal: 8.77s\tremaining: 1.86s\n",
      "826:\tlearn: 0.0088431\ttotal: 8.79s\tremaining: 1.84s\n",
      "828:\tlearn: 0.0088421\ttotal: 8.82s\tremaining: 1.82s\n",
      "830:\tlearn: 0.0088385\ttotal: 8.85s\tremaining: 1.8s\n",
      "832:\tlearn: 0.0088382\ttotal: 8.87s\tremaining: 1.78s\n",
      "834:\tlearn: 0.0088369\ttotal: 8.89s\tremaining: 1.76s\n",
      "836:\tlearn: 0.0088346\ttotal: 8.9s\tremaining: 1.73s\n",
      "838:\tlearn: 0.0088344\ttotal: 8.92s\tremaining: 1.71s\n",
      "840:\tlearn: 0.0088324\ttotal: 8.95s\tremaining: 1.69s\n",
      "842:\tlearn: 0.0088324\ttotal: 8.96s\tremaining: 1.67s\n",
      "844:\tlearn: 0.0088316\ttotal: 8.99s\tremaining: 1.65s\n",
      "846:\tlearn: 0.0088315\ttotal: 9s\tremaining: 1.63s\n",
      "848:\tlearn: 0.0088313\ttotal: 9.03s\tremaining: 1.6s\n",
      "850:\tlearn: 0.0088300\ttotal: 9.05s\tremaining: 1.58s\n",
      "852:\tlearn: 0.0088300\ttotal: 9.06s\tremaining: 1.56s\n",
      "854:\tlearn: 0.0088286\ttotal: 9.09s\tremaining: 1.54s\n",
      "856:\tlearn: 0.0088285\ttotal: 9.11s\tremaining: 1.52s\n",
      "858:\tlearn: 0.0088279\ttotal: 9.13s\tremaining: 1.5s\n",
      "860:\tlearn: 0.0088237\ttotal: 9.16s\tremaining: 1.48s\n",
      "862:\tlearn: 0.0088236\ttotal: 9.18s\tremaining: 1.46s\n",
      "864:\tlearn: 0.0088178\ttotal: 9.2s\tremaining: 1.44s\n",
      "866:\tlearn: 0.0088167\ttotal: 9.22s\tremaining: 1.41s\n",
      "868:\tlearn: 0.0088143\ttotal: 9.24s\tremaining: 1.39s\n",
      "870:\tlearn: 0.0088122\ttotal: 9.26s\tremaining: 1.37s\n",
      "872:\tlearn: 0.0088110\ttotal: 9.28s\tremaining: 1.35s\n",
      "874:\tlearn: 0.0088086\ttotal: 9.3s\tremaining: 1.33s\n",
      "876:\tlearn: 0.0088067\ttotal: 9.32s\tremaining: 1.31s\n",
      "878:\tlearn: 0.0088051\ttotal: 9.35s\tremaining: 1.29s\n",
      "880:\tlearn: 0.0088037\ttotal: 9.37s\tremaining: 1.26s\n",
      "882:\tlearn: 0.0088034\ttotal: 9.39s\tremaining: 1.24s\n",
      "884:\tlearn: 0.0088034\ttotal: 9.41s\tremaining: 1.22s\n",
      "886:\tlearn: 0.0088028\ttotal: 9.43s\tremaining: 1.2s\n",
      "888:\tlearn: 0.0088027\ttotal: 9.45s\tremaining: 1.18s\n",
      "890:\tlearn: 0.0088015\ttotal: 9.47s\tremaining: 1.16s\n",
      "892:\tlearn: 0.0088014\ttotal: 9.48s\tremaining: 1.14s\n",
      "894:\tlearn: 0.0087989\ttotal: 9.5s\tremaining: 1.11s\n",
      "896:\tlearn: 0.0087980\ttotal: 9.53s\tremaining: 1.09s\n",
      "898:\tlearn: 0.0087950\ttotal: 9.55s\tremaining: 1.07s\n",
      "900:\tlearn: 0.0087933\ttotal: 9.58s\tremaining: 1.05s\n",
      "902:\tlearn: 0.0087925\ttotal: 9.6s\tremaining: 1.03s\n",
      "904:\tlearn: 0.0087920\ttotal: 9.63s\tremaining: 1.01s\n",
      "906:\tlearn: 0.0087920\ttotal: 9.66s\tremaining: 990ms\n",
      "908:\tlearn: 0.0087919\ttotal: 9.69s\tremaining: 970ms\n",
      "910:\tlearn: 0.0087910\ttotal: 9.71s\tremaining: 949ms\n",
      "912:\tlearn: 0.0087909\ttotal: 9.73s\tremaining: 928ms\n",
      "914:\tlearn: 0.0087906\ttotal: 9.75s\tremaining: 906ms\n",
      "916:\tlearn: 0.0087905\ttotal: 9.77s\tremaining: 885ms\n",
      "918:\tlearn: 0.0087901\ttotal: 9.8s\tremaining: 864ms\n",
      "920:\tlearn: 0.0087893\ttotal: 9.82s\tremaining: 842ms\n",
      "922:\tlearn: 0.0087892\ttotal: 9.84s\tremaining: 821ms\n",
      "924:\tlearn: 0.0087885\ttotal: 9.86s\tremaining: 800ms\n",
      "926:\tlearn: 0.0087881\ttotal: 9.88s\tremaining: 778ms\n",
      "928:\tlearn: 0.0087878\ttotal: 9.9s\tremaining: 757ms\n",
      "930:\tlearn: 0.0087877\ttotal: 9.92s\tremaining: 735ms\n",
      "932:\tlearn: 0.0087873\ttotal: 9.94s\tremaining: 714ms\n",
      "934:\tlearn: 0.0087870\ttotal: 9.96s\tremaining: 692ms\n",
      "936:\tlearn: 0.0087858\ttotal: 9.98s\tremaining: 671ms\n",
      "938:\tlearn: 0.0087856\ttotal: 10s\tremaining: 650ms\n",
      "940:\tlearn: 0.0087852\ttotal: 10s\tremaining: 628ms\n",
      "942:\tlearn: 0.0087824\ttotal: 10.1s\tremaining: 608ms\n",
      "944:\tlearn: 0.0087820\ttotal: 10.1s\tremaining: 587ms\n",
      "946:\tlearn: 0.0087817\ttotal: 10.1s\tremaining: 566ms\n",
      "948:\tlearn: 0.0087817\ttotal: 10.1s\tremaining: 545ms\n",
      "950:\tlearn: 0.0087814\ttotal: 10.2s\tremaining: 524ms\n",
      "952:\tlearn: 0.0087804\ttotal: 10.2s\tremaining: 502ms\n",
      "954:\tlearn: 0.0087753\ttotal: 10.2s\tremaining: 481ms\n",
      "956:\tlearn: 0.0087752\ttotal: 10.2s\tremaining: 460ms\n",
      "958:\tlearn: 0.0087751\ttotal: 10.3s\tremaining: 438ms\n",
      "960:\tlearn: 0.0087750\ttotal: 10.3s\tremaining: 417ms\n",
      "962:\tlearn: 0.0087736\ttotal: 10.3s\tremaining: 396ms\n",
      "964:\tlearn: 0.0087736\ttotal: 10.3s\tremaining: 374ms\n",
      "966:\tlearn: 0.0087664\ttotal: 10.3s\tremaining: 353ms\n"
     ]
    },
    {
     "name": "stdout",
     "output_type": "stream",
     "text": [
      "968:\tlearn: 0.0087659\ttotal: 10.4s\tremaining: 332ms\n",
      "970:\tlearn: 0.0087646\ttotal: 10.4s\tremaining: 310ms\n",
      "972:\tlearn: 0.0087643\ttotal: 10.4s\tremaining: 289ms\n",
      "974:\tlearn: 0.0087601\ttotal: 10.4s\tremaining: 267ms\n",
      "976:\tlearn: 0.0087598\ttotal: 10.4s\tremaining: 246ms\n",
      "978:\tlearn: 0.0087598\ttotal: 10.5s\tremaining: 225ms\n",
      "980:\tlearn: 0.0087594\ttotal: 10.5s\tremaining: 203ms\n",
      "982:\tlearn: 0.0087594\ttotal: 10.5s\tremaining: 182ms\n",
      "984:\tlearn: 0.0087563\ttotal: 10.5s\tremaining: 160ms\n",
      "986:\tlearn: 0.0087563\ttotal: 10.5s\tremaining: 139ms\n",
      "988:\tlearn: 0.0087560\ttotal: 10.6s\tremaining: 117ms\n",
      "990:\tlearn: 0.0087560\ttotal: 10.6s\tremaining: 96ms\n",
      "992:\tlearn: 0.0087553\ttotal: 10.6s\tremaining: 74.7ms\n",
      "994:\tlearn: 0.0087553\ttotal: 10.6s\tremaining: 53.4ms\n",
      "996:\tlearn: 0.0087550\ttotal: 10.6s\tremaining: 32ms\n",
      "998:\tlearn: 0.0087536\ttotal: 10.7s\tremaining: 10.7ms\n",
      "999:\tlearn: 0.0087535\ttotal: 10.7s\tremaining: 0us\n"
     ]
    },
    {
     "data": {
      "text/plain": [
       "<catboost.core.CatBoostClassifier at 0x7f6b720bcd10>"
      ]
     },
     "execution_count": 20,
     "metadata": {},
     "output_type": "execute_result"
    }
   ],
   "source": [
    "model.fit(X_train, y_train, cat_features=cat_idx)"
   ]
  },
  {
   "cell_type": "code",
   "execution_count": 21,
   "id": "d65242ca",
   "metadata": {},
   "outputs": [
    {
     "data": {
      "text/plain": [
       "signup_date_presence        30.789326\n",
       "user_activity_var_9         12.290671\n",
       "diff                        12.214790\n",
       "user_activity_var_11        10.697111\n",
       "user_activity_var_8          6.636452\n",
       "user_activity_var_2          5.905280\n",
       "user_activity_var_5          4.354587\n",
       "user_activity_var_4          4.085095\n",
       "campaign_var_1_trim_freq     2.115251\n",
       "campaign_var_1               1.396540\n",
       "campaign_var_2               1.272769\n",
       "user_activity_var_1          1.196992\n",
       "user_act_trim_tme            0.930837\n",
       "products_purchased_freq      0.720986\n",
       "products_purchased           0.719498\n",
       "created_at_month_freq        0.588547\n",
       "campaign_var_2_trim_tme      0.533114\n",
       "campaign_var_2_trim_freq     0.508565\n",
       "campaign_var_2_trim          0.499274\n",
       "products_purchased_tme       0.489511\n",
       "created_at_month_tme         0.441156\n",
       "created_at_month             0.337106\n",
       "campaign_var_1_trim_tme      0.266414\n",
       "user_act_trim                0.192148\n",
       "user_activity_var_6          0.189647\n",
       "user_act_trim_freq           0.175272\n",
       "user_activity_var_7          0.158485\n",
       "user_activity_var_3          0.136164\n",
       "user_activity_var_10         0.095466\n",
       "user_activity_var_12         0.040175\n",
       "campaign_var_1_trim          0.022770\n",
       "dtype: float64"
      ]
     },
     "execution_count": 21,
     "metadata": {},
     "output_type": "execute_result"
    }
   ],
   "source": [
    "feat_imp = pd.Series(model.feature_importances_, index=X_train.columns)\n",
    "feat_imp.sort_values(ascending=False)"
   ]
  },
  {
   "cell_type": "code",
   "execution_count": 22,
   "id": "753be72a",
   "metadata": {},
   "outputs": [
    {
     "data": {
      "text/plain": [
       "signup_date_presence        3078.932620\n",
       "user_activity_var_9         1229.067126\n",
       "diff                        1221.478968\n",
       "user_activity_var_11        1069.711133\n",
       "user_activity_var_8          663.645171\n",
       "user_activity_var_2          590.528030\n",
       "user_activity_var_5          435.458736\n",
       "user_activity_var_4          408.509492\n",
       "campaign_var_1_trim_freq     211.525063\n",
       "campaign_var_1               139.653988\n",
       "campaign_var_2               127.276883\n",
       "user_activity_var_1          119.699223\n",
       "user_act_trim_tme             93.083724\n",
       "products_purchased_freq       72.098603\n",
       "products_purchased            71.949781\n",
       "dtype: float64"
      ]
     },
     "execution_count": 22,
     "metadata": {},
     "output_type": "execute_result"
    }
   ],
   "source": [
    "feat_imp.nlargest(15)*100"
   ]
  },
  {
   "cell_type": "markdown",
   "id": "e2d06440",
   "metadata": {},
   "source": [
    "# Train scoring"
   ]
  },
  {
   "cell_type": "code",
   "execution_count": 23,
   "id": "ebd332c5",
   "metadata": {},
   "outputs": [
    {
     "data": {
      "text/plain": [
       "array([[9.99901742e-01, 9.82577961e-05],\n",
       "       [9.87027419e-01, 1.29725807e-02],\n",
       "       [9.99954260e-01, 4.57402501e-05],\n",
       "       ...,\n",
       "       [9.99706405e-01, 2.93595365e-04],\n",
       "       [9.99644545e-01, 3.55455095e-04],\n",
       "       [9.79278737e-01, 2.07212631e-02]])"
      ]
     },
     "execution_count": 23,
     "metadata": {},
     "output_type": "execute_result"
    }
   ],
   "source": [
    "y_train_prob = model.predict_proba(X_train)\n",
    "y_train_prob"
   ]
  },
  {
   "cell_type": "code",
   "execution_count": 24,
   "id": "c32e8235",
   "metadata": {},
   "outputs": [
    {
     "data": {
      "text/plain": [
       "array([0, 0, 0, ..., 0, 0, 0])"
      ]
     },
     "execution_count": 24,
     "metadata": {},
     "output_type": "execute_result"
    }
   ],
   "source": [
    "y_train_pred = model.predict(X_train)\n",
    "y_train_pred"
   ]
  },
  {
   "cell_type": "code",
   "execution_count": 25,
   "id": "3c7ad495",
   "metadata": {},
   "outputs": [
    {
     "data": {
      "text/plain": [
       "0.6666666666666666"
      ]
     },
     "execution_count": 25,
     "metadata": {},
     "output_type": "execute_result"
    }
   ],
   "source": [
    "metrics.f1_score(y_train, y_train_pred)"
   ]
  },
  {
   "cell_type": "code",
   "execution_count": null,
   "id": "33da5cd4",
   "metadata": {},
   "outputs": [],
   "source": []
  },
  {
   "cell_type": "markdown",
   "id": "8c4bd346",
   "metadata": {},
   "source": [
    "# Validation scoring"
   ]
  },
  {
   "cell_type": "code",
   "execution_count": 26,
   "id": "e36e235d",
   "metadata": {},
   "outputs": [
    {
     "data": {
      "text/plain": [
       "array([[9.98847960e-01, 1.15204045e-03],\n",
       "       [9.99750996e-01, 2.49004216e-04],\n",
       "       [9.98911051e-01, 1.08894932e-03],\n",
       "       ...,\n",
       "       [9.99945189e-01, 5.48106535e-05],\n",
       "       [9.99993967e-01, 6.03348276e-06],\n",
       "       [9.99981450e-01, 1.85502567e-05]])"
      ]
     },
     "execution_count": 26,
     "metadata": {},
     "output_type": "execute_result"
    }
   ],
   "source": [
    "y_val_prob = model.predict_proba(X_val)\n",
    "y_val_prob"
   ]
  },
  {
   "cell_type": "code",
   "execution_count": 27,
   "id": "09c13952",
   "metadata": {},
   "outputs": [
    {
     "data": {
      "text/plain": [
       "array([0, 0, 0, ..., 0, 0, 0])"
      ]
     },
     "execution_count": 27,
     "metadata": {},
     "output_type": "execute_result"
    }
   ],
   "source": [
    "y_val_pred = model.predict(X_val)\n",
    "y_val_pred"
   ]
  },
  {
   "cell_type": "code",
   "execution_count": 28,
   "id": "60321b96",
   "metadata": {},
   "outputs": [
    {
     "data": {
      "text/plain": [
       "0.6675531914893617"
      ]
     },
     "execution_count": 28,
     "metadata": {},
     "output_type": "execute_result"
    }
   ],
   "source": [
    "metrics.f1_score(y_val, y_val_pred)"
   ]
  },
  {
   "cell_type": "markdown",
   "id": "400c1287",
   "metadata": {},
   "source": [
    "# Test scoring"
   ]
  },
  {
   "cell_type": "code",
   "execution_count": 29,
   "id": "2fff86b3",
   "metadata": {},
   "outputs": [
    {
     "data": {
      "text/plain": [
       "array([[4.77786027e-03, 9.95222140e-01],\n",
       "       [9.99347876e-01, 6.52123608e-04],\n",
       "       [9.99844708e-01, 1.55291754e-04],\n",
       "       ...,\n",
       "       [9.99732293e-01, 2.67707069e-04],\n",
       "       [9.99945975e-01, 5.40248941e-05],\n",
       "       [9.99952999e-01, 4.70011284e-05]])"
      ]
     },
     "execution_count": 29,
     "metadata": {},
     "output_type": "execute_result"
    }
   ],
   "source": [
    "y_test_prob = model.predict_proba(X_test)\n",
    "y_test_prob"
   ]
  },
  {
   "cell_type": "code",
   "execution_count": 30,
   "id": "229157aa",
   "metadata": {},
   "outputs": [
    {
     "data": {
      "text/plain": [
       "array([1, 0, 0, ..., 0, 0, 0])"
      ]
     },
     "execution_count": 30,
     "metadata": {},
     "output_type": "execute_result"
    }
   ],
   "source": [
    "y_test_pred = model.predict(X_test)\n",
    "y_test_pred"
   ]
  },
  {
   "cell_type": "code",
   "execution_count": 31,
   "id": "ea75c662",
   "metadata": {},
   "outputs": [
    {
     "data": {
      "text/plain": [
       "id\n",
       "39162    1\n",
       "39163    0\n",
       "39164    0\n",
       "39165    1\n",
       "39166    0\n",
       "        ..\n",
       "52341    0\n",
       "52342    0\n",
       "52343    0\n",
       "52344    0\n",
       "52345    0\n",
       "Name: buy, Length: 13184, dtype: int64"
      ]
     },
     "execution_count": 31,
     "metadata": {},
     "output_type": "execute_result"
    }
   ],
   "source": [
    "test_pred = pd.Series(y_test_pred, index=X_test.index, name=target)\n",
    "test_pred"
   ]
  },
  {
   "cell_type": "code",
   "execution_count": 32,
   "id": "ec0a05db",
   "metadata": {},
   "outputs": [],
   "source": [
    "test_pred.to_csv(\"Outputs/test-cat-v3.csv\")"
   ]
  },
  {
   "cell_type": "code",
   "execution_count": null,
   "id": "e0f4d32f",
   "metadata": {},
   "outputs": [],
   "source": []
  }
 ],
 "metadata": {
  "kernelspec": {
   "display_name": "Python 3 (ipykernel)",
   "language": "python",
   "name": "python3"
  },
  "language_info": {
   "codemirror_mode": {
    "name": "ipython",
    "version": 3
   },
   "file_extension": ".py",
   "mimetype": "text/x-python",
   "name": "python",
   "nbconvert_exporter": "python",
   "pygments_lexer": "ipython3",
   "version": "3.7.13"
  }
 },
 "nbformat": 4,
 "nbformat_minor": 5
}
