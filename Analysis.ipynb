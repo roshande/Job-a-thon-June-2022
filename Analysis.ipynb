{
 "cells": [
  {
   "cell_type": "code",
   "execution_count": 1,
   "id": "bfa92411",
   "metadata": {},
   "outputs": [],
   "source": [
    "import pandas as pd\n",
    "import numpy as np\n",
    "import pathlib\n",
    "import matplotlib.pyplot as plt\n",
    "import seaborn as sns"
   ]
  },
  {
   "cell_type": "code",
   "execution_count": 2,
   "id": "d85aff34",
   "metadata": {},
   "outputs": [
    {
     "name": "stdout",
     "output_type": "stream",
     "text": [
      "dataset/train.pk\n",
      "dataset/test.pk\n",
      "dataset/test_Wf7sxXF.csv\n",
      "dataset/.ipynb_checkpoints\n",
      "dataset/val.pk\n",
      "dataset/train_wn75k28.csv\n"
     ]
    }
   ],
   "source": [
    "dataset = pathlib.Path(\"dataset\")\n",
    "for item in dataset.glob('*'):\n",
    "    print(item)"
   ]
  },
  {
   "cell_type": "code",
   "execution_count": 3,
   "id": "ef0a2cc7",
   "metadata": {},
   "outputs": [],
   "source": [
    "train_file = dataset/\"train_wn75k28.csv\"\n",
    "test_file = dataset/\"test_Wf7sxXF.csv\""
   ]
  },
  {
   "cell_type": "code",
   "execution_count": 4,
   "id": "01b6fcf2",
   "metadata": {},
   "outputs": [
    {
     "data": {
      "text/html": [
       "<div>\n",
       "<style scoped>\n",
       "    .dataframe tbody tr th:only-of-type {\n",
       "        vertical-align: middle;\n",
       "    }\n",
       "\n",
       "    .dataframe tbody tr th {\n",
       "        vertical-align: top;\n",
       "    }\n",
       "\n",
       "    .dataframe thead th {\n",
       "        text-align: right;\n",
       "    }\n",
       "</style>\n",
       "<table border=\"1\" class=\"dataframe\">\n",
       "  <thead>\n",
       "    <tr style=\"text-align: right;\">\n",
       "      <th></th>\n",
       "      <th>created_at</th>\n",
       "      <th>campaign_var_1</th>\n",
       "      <th>campaign_var_2</th>\n",
       "      <th>products_purchased</th>\n",
       "      <th>signup_date</th>\n",
       "      <th>user_activity_var_1</th>\n",
       "      <th>user_activity_var_2</th>\n",
       "      <th>user_activity_var_3</th>\n",
       "      <th>user_activity_var_4</th>\n",
       "      <th>user_activity_var_5</th>\n",
       "      <th>user_activity_var_6</th>\n",
       "      <th>user_activity_var_7</th>\n",
       "      <th>user_activity_var_8</th>\n",
       "      <th>user_activity_var_9</th>\n",
       "      <th>user_activity_var_10</th>\n",
       "      <th>user_activity_var_11</th>\n",
       "      <th>user_activity_var_12</th>\n",
       "      <th>buy</th>\n",
       "    </tr>\n",
       "    <tr>\n",
       "      <th>id</th>\n",
       "      <th></th>\n",
       "      <th></th>\n",
       "      <th></th>\n",
       "      <th></th>\n",
       "      <th></th>\n",
       "      <th></th>\n",
       "      <th></th>\n",
       "      <th></th>\n",
       "      <th></th>\n",
       "      <th></th>\n",
       "      <th></th>\n",
       "      <th></th>\n",
       "      <th></th>\n",
       "      <th></th>\n",
       "      <th></th>\n",
       "      <th></th>\n",
       "      <th></th>\n",
       "      <th></th>\n",
       "    </tr>\n",
       "  </thead>\n",
       "  <tbody>\n",
       "    <tr>\n",
       "      <th>1</th>\n",
       "      <td>2021-01-01</td>\n",
       "      <td>1</td>\n",
       "      <td>2</td>\n",
       "      <td>2.0</td>\n",
       "      <td>2020-09-24</td>\n",
       "      <td>0</td>\n",
       "      <td>0</td>\n",
       "      <td>0</td>\n",
       "      <td>0</td>\n",
       "      <td>0</td>\n",
       "      <td>0</td>\n",
       "      <td>1</td>\n",
       "      <td>1</td>\n",
       "      <td>0</td>\n",
       "      <td>0</td>\n",
       "      <td>0</td>\n",
       "      <td>0</td>\n",
       "      <td>0</td>\n",
       "    </tr>\n",
       "    <tr>\n",
       "      <th>2</th>\n",
       "      <td>2021-01-01</td>\n",
       "      <td>2</td>\n",
       "      <td>1</td>\n",
       "      <td>2.0</td>\n",
       "      <td>2020-09-19</td>\n",
       "      <td>1</td>\n",
       "      <td>0</td>\n",
       "      <td>1</td>\n",
       "      <td>0</td>\n",
       "      <td>0</td>\n",
       "      <td>0</td>\n",
       "      <td>1</td>\n",
       "      <td>0</td>\n",
       "      <td>0</td>\n",
       "      <td>0</td>\n",
       "      <td>0</td>\n",
       "      <td>0</td>\n",
       "      <td>0</td>\n",
       "    </tr>\n",
       "    <tr>\n",
       "      <th>3</th>\n",
       "      <td>2021-01-01</td>\n",
       "      <td>9</td>\n",
       "      <td>3</td>\n",
       "      <td>3.0</td>\n",
       "      <td>2021-08-11</td>\n",
       "      <td>1</td>\n",
       "      <td>0</td>\n",
       "      <td>0</td>\n",
       "      <td>0</td>\n",
       "      <td>0</td>\n",
       "      <td>0</td>\n",
       "      <td>0</td>\n",
       "      <td>0</td>\n",
       "      <td>0</td>\n",
       "      <td>0</td>\n",
       "      <td>0</td>\n",
       "      <td>0</td>\n",
       "      <td>0</td>\n",
       "    </tr>\n",
       "    <tr>\n",
       "      <th>4</th>\n",
       "      <td>2021-01-01</td>\n",
       "      <td>6</td>\n",
       "      <td>7</td>\n",
       "      <td>2.0</td>\n",
       "      <td>2017-10-04</td>\n",
       "      <td>0</td>\n",
       "      <td>0</td>\n",
       "      <td>0</td>\n",
       "      <td>0</td>\n",
       "      <td>0</td>\n",
       "      <td>0</td>\n",
       "      <td>0</td>\n",
       "      <td>0</td>\n",
       "      <td>0</td>\n",
       "      <td>0</td>\n",
       "      <td>0</td>\n",
       "      <td>0</td>\n",
       "      <td>0</td>\n",
       "    </tr>\n",
       "    <tr>\n",
       "      <th>5</th>\n",
       "      <td>2021-01-01</td>\n",
       "      <td>4</td>\n",
       "      <td>6</td>\n",
       "      <td>NaN</td>\n",
       "      <td>2020-06-08</td>\n",
       "      <td>0</td>\n",
       "      <td>0</td>\n",
       "      <td>0</td>\n",
       "      <td>0</td>\n",
       "      <td>0</td>\n",
       "      <td>0</td>\n",
       "      <td>1</td>\n",
       "      <td>0</td>\n",
       "      <td>0</td>\n",
       "      <td>0</td>\n",
       "      <td>1</td>\n",
       "      <td>0</td>\n",
       "      <td>0</td>\n",
       "    </tr>\n",
       "  </tbody>\n",
       "</table>\n",
       "</div>"
      ],
      "text/plain": [
       "    created_at  campaign_var_1  campaign_var_2  products_purchased  \\\n",
       "id                                                                   \n",
       "1   2021-01-01               1               2                 2.0   \n",
       "2   2021-01-01               2               1                 2.0   \n",
       "3   2021-01-01               9               3                 3.0   \n",
       "4   2021-01-01               6               7                 2.0   \n",
       "5   2021-01-01               4               6                 NaN   \n",
       "\n",
       "   signup_date  user_activity_var_1  user_activity_var_2  user_activity_var_3  \\\n",
       "id                                                                              \n",
       "1   2020-09-24                    0                    0                    0   \n",
       "2   2020-09-19                    1                    0                    1   \n",
       "3   2021-08-11                    1                    0                    0   \n",
       "4   2017-10-04                    0                    0                    0   \n",
       "5   2020-06-08                    0                    0                    0   \n",
       "\n",
       "    user_activity_var_4  user_activity_var_5  user_activity_var_6  \\\n",
       "id                                                                  \n",
       "1                     0                    0                    0   \n",
       "2                     0                    0                    0   \n",
       "3                     0                    0                    0   \n",
       "4                     0                    0                    0   \n",
       "5                     0                    0                    0   \n",
       "\n",
       "    user_activity_var_7  user_activity_var_8  user_activity_var_9  \\\n",
       "id                                                                  \n",
       "1                     1                    1                    0   \n",
       "2                     1                    0                    0   \n",
       "3                     0                    0                    0   \n",
       "4                     0                    0                    0   \n",
       "5                     1                    0                    0   \n",
       "\n",
       "    user_activity_var_10  user_activity_var_11  user_activity_var_12  buy  \n",
       "id                                                                         \n",
       "1                      0                     0                     0    0  \n",
       "2                      0                     0                     0    0  \n",
       "3                      0                     0                     0    0  \n",
       "4                      0                     0                     0    0  \n",
       "5                      0                     1                     0    0  "
      ]
     },
     "execution_count": 4,
     "metadata": {},
     "output_type": "execute_result"
    }
   ],
   "source": [
    "df = pd.read_csv(train_file.as_posix(), index_col=0)\n",
    "df.head()"
   ]
  },
  {
   "cell_type": "code",
   "execution_count": 5,
   "id": "7e675102",
   "metadata": {},
   "outputs": [
    {
     "data": {
      "text/plain": [
       "created_at               object\n",
       "campaign_var_1            int64\n",
       "campaign_var_2            int64\n",
       "products_purchased      float64\n",
       "signup_date              object\n",
       "user_activity_var_1       int64\n",
       "user_activity_var_2       int64\n",
       "user_activity_var_3       int64\n",
       "user_activity_var_4       int64\n",
       "user_activity_var_5       int64\n",
       "user_activity_var_6       int64\n",
       "user_activity_var_7       int64\n",
       "user_activity_var_8       int64\n",
       "user_activity_var_9       int64\n",
       "user_activity_var_10      int64\n",
       "user_activity_var_11      int64\n",
       "user_activity_var_12      int64\n",
       "buy                       int64\n",
       "dtype: object"
      ]
     },
     "execution_count": 5,
     "metadata": {},
     "output_type": "execute_result"
    }
   ],
   "source": [
    "df.dtypes"
   ]
  },
  {
   "cell_type": "code",
   "execution_count": 6,
   "id": "efce2d30",
   "metadata": {},
   "outputs": [
    {
     "data": {
      "text/plain": [
       "365"
      ]
     },
     "execution_count": 6,
     "metadata": {},
     "output_type": "execute_result"
    }
   ],
   "source": [
    "df['created_at'].nunique(dropna=False)"
   ]
  },
  {
   "cell_type": "code",
   "execution_count": 7,
   "id": "635f8853",
   "metadata": {},
   "outputs": [
    {
     "data": {
      "text/plain": [
       "1801"
      ]
     },
     "execution_count": 7,
     "metadata": {},
     "output_type": "execute_result"
    }
   ],
   "source": [
    "df['signup_date'].nunique(dropna=False)"
   ]
  },
  {
   "cell_type": "code",
   "execution_count": 8,
   "id": "8c28669e",
   "metadata": {},
   "outputs": [
    {
     "data": {
      "text/plain": [
       "0    94.897985\n",
       "1     5.102015\n",
       "Name: buy, dtype: float64"
      ]
     },
     "execution_count": 8,
     "metadata": {},
     "output_type": "execute_result"
    }
   ],
   "source": [
    "target = 'buy'\n",
    "df[target].value_counts(normalize=True)*100"
   ]
  },
  {
   "cell_type": "code",
   "execution_count": 9,
   "id": "a9ed3a53",
   "metadata": {},
   "outputs": [],
   "source": [
    "cols = ['created_at', 'signup_date']\n",
    "for col in cols:\n",
    "    df[col] = pd.to_datetime(df[col])"
   ]
  },
  {
   "cell_type": "code",
   "execution_count": 10,
   "id": "2593f0f4",
   "metadata": {},
   "outputs": [
    {
     "data": {
      "text/plain": [
       "created_at              datetime64[ns]\n",
       "campaign_var_1                   int64\n",
       "campaign_var_2                   int64\n",
       "products_purchased             float64\n",
       "signup_date             datetime64[ns]\n",
       "user_activity_var_1              int64\n",
       "user_activity_var_2              int64\n",
       "user_activity_var_3              int64\n",
       "user_activity_var_4              int64\n",
       "user_activity_var_5              int64\n",
       "user_activity_var_6              int64\n",
       "user_activity_var_7              int64\n",
       "user_activity_var_8              int64\n",
       "user_activity_var_9              int64\n",
       "user_activity_var_10             int64\n",
       "user_activity_var_11             int64\n",
       "user_activity_var_12             int64\n",
       "buy                              int64\n",
       "dtype: object"
      ]
     },
     "execution_count": 10,
     "metadata": {},
     "output_type": "execute_result"
    }
   ],
   "source": [
    "df.dtypes"
   ]
  },
  {
   "cell_type": "code",
   "execution_count": 11,
   "id": "f5b8d7ac",
   "metadata": {},
   "outputs": [
    {
     "data": {
      "text/plain": [
       "(39161, 18)"
      ]
     },
     "execution_count": 11,
     "metadata": {},
     "output_type": "execute_result"
    }
   ],
   "source": [
    "df.shape"
   ]
  },
  {
   "cell_type": "code",
   "execution_count": 12,
   "id": "509f5a3f",
   "metadata": {},
   "outputs": [
    {
     "data": {
      "text/plain": [
       "Int64Index([    1,     2,     3,     4,     5,     6,     7,     8,     9,\n",
       "               10,\n",
       "            ...\n",
       "            39152, 39153, 39154, 39155, 39156, 39157, 39158, 39159, 39160,\n",
       "            39161],\n",
       "           dtype='int64', name='id', length=39161)"
      ]
     },
     "execution_count": 12,
     "metadata": {},
     "output_type": "execute_result"
    }
   ],
   "source": [
    "df.index"
   ]
  },
  {
   "cell_type": "code",
   "execution_count": 13,
   "id": "408f2620",
   "metadata": {},
   "outputs": [
    {
     "data": {
      "text/plain": [
       "created_at               0.000000\n",
       "campaign_var_1           0.000000\n",
       "campaign_var_2           0.000000\n",
       "products_purchased      53.397513\n",
       "signup_date             38.591966\n",
       "user_activity_var_1      0.000000\n",
       "user_activity_var_2      0.000000\n",
       "user_activity_var_3      0.000000\n",
       "user_activity_var_4      0.000000\n",
       "user_activity_var_5      0.000000\n",
       "user_activity_var_6      0.000000\n",
       "user_activity_var_7      0.000000\n",
       "user_activity_var_8      0.000000\n",
       "user_activity_var_9      0.000000\n",
       "user_activity_var_10     0.000000\n",
       "user_activity_var_11     0.000000\n",
       "user_activity_var_12     0.000000\n",
       "buy                      0.000000\n",
       "dtype: float64"
      ]
     },
     "execution_count": 13,
     "metadata": {},
     "output_type": "execute_result"
    }
   ],
   "source": [
    "df.isna().mean()*100"
   ]
  },
  {
   "cell_type": "code",
   "execution_count": 14,
   "id": "b3c76e75",
   "metadata": {},
   "outputs": [
    {
     "data": {
      "text/plain": [
       "campaign_var_1          16\n",
       "campaign_var_2          15\n",
       "products_purchased       5\n",
       "user_activity_var_1      4\n",
       "user_activity_var_2      2\n",
       "user_activity_var_3      2\n",
       "user_activity_var_4      2\n",
       "user_activity_var_5      3\n",
       "user_activity_var_6      4\n",
       "user_activity_var_7      3\n",
       "user_activity_var_8      3\n",
       "user_activity_var_9      2\n",
       "user_activity_var_10     2\n",
       "user_activity_var_11     5\n",
       "user_activity_var_12     2\n",
       "buy                      2\n",
       "dtype: int64"
      ]
     },
     "execution_count": 14,
     "metadata": {},
     "output_type": "execute_result"
    }
   ],
   "source": [
    "df.select_dtypes(exclude='datetime').nunique(dropna=False)"
   ]
  },
  {
   "cell_type": "markdown",
   "id": "02d32746",
   "metadata": {},
   "source": [
    "# campaign_var_1"
   ]
  },
  {
   "cell_type": "code",
   "execution_count": 15,
   "id": "0c6c75ec",
   "metadata": {},
   "outputs": [
    {
     "data": {
      "text/plain": [
       "6     10.370011\n",
       "5     10.367457\n",
       "4     10.260208\n",
       "3      9.662675\n",
       "7      9.591175\n",
       "2      8.901713\n",
       "8      8.699982\n",
       "9      7.318506\n",
       "10     6.108118\n",
       "11     4.782820\n",
       "1      4.067823\n",
       "12     3.715431\n",
       "13     2.704221\n",
       "14     1.823243\n",
       "15     1.164424\n",
       "16     0.462195\n",
       "Name: campaign_var_1, dtype: float64"
      ]
     },
     "execution_count": 15,
     "metadata": {},
     "output_type": "execute_result"
    }
   ],
   "source": [
    "df['campaign_var_1'].value_counts(normalize=True)*100"
   ]
  },
  {
   "cell_type": "code",
   "execution_count": 16,
   "id": "da3d695b",
   "metadata": {},
   "outputs": [],
   "source": [
    "df['campaign_var_1'] = df['campaign_var_1'].astype(str)"
   ]
  },
  {
   "cell_type": "code",
   "execution_count": 17,
   "id": "3ca83bf2",
   "metadata": {},
   "outputs": [
    {
     "data": {
      "text/plain": [
       "campaign_var_1\n",
       "3     7.293869\n",
       "2     7.142857\n",
       "4     6.893977\n",
       "5     6.576355\n",
       "1     6.089140\n",
       "6     5.614381\n",
       "7     5.298190\n",
       "8     4.461403\n",
       "9     3.593859\n",
       "11    2.562734\n",
       "10    2.550167\n",
       "12    1.649485\n",
       "13    1.133144\n",
       "15    0.657895\n",
       "14    0.280112\n",
       "16    0.000000\n",
       "Name: buy, dtype: float64"
      ]
     },
     "execution_count": 17,
     "metadata": {},
     "output_type": "execute_result"
    }
   ],
   "source": [
    "(df.groupby('campaign_var_1')[target].mean()*100).sort_values(ascending=False)"
   ]
  },
  {
   "cell_type": "code",
   "execution_count": 18,
   "id": "15131534",
   "metadata": {},
   "outputs": [
    {
     "data": {
      "text/html": [
       "<div>\n",
       "<style scoped>\n",
       "    .dataframe tbody tr th:only-of-type {\n",
       "        vertical-align: middle;\n",
       "    }\n",
       "\n",
       "    .dataframe tbody tr th {\n",
       "        vertical-align: top;\n",
       "    }\n",
       "\n",
       "    .dataframe thead th {\n",
       "        text-align: right;\n",
       "    }\n",
       "</style>\n",
       "<table border=\"1\" class=\"dataframe\">\n",
       "  <thead>\n",
       "    <tr style=\"text-align: right;\">\n",
       "      <th>buy</th>\n",
       "      <th>0</th>\n",
       "      <th>1</th>\n",
       "    </tr>\n",
       "    <tr>\n",
       "      <th>campaign_var_1</th>\n",
       "      <th></th>\n",
       "      <th></th>\n",
       "    </tr>\n",
       "  </thead>\n",
       "  <tbody>\n",
       "    <tr>\n",
       "      <th>1</th>\n",
       "      <td>93.910860</td>\n",
       "      <td>6.089140</td>\n",
       "    </tr>\n",
       "    <tr>\n",
       "      <th>10</th>\n",
       "      <td>97.449833</td>\n",
       "      <td>2.550167</td>\n",
       "    </tr>\n",
       "    <tr>\n",
       "      <th>11</th>\n",
       "      <td>97.437266</td>\n",
       "      <td>2.562734</td>\n",
       "    </tr>\n",
       "    <tr>\n",
       "      <th>12</th>\n",
       "      <td>98.350515</td>\n",
       "      <td>1.649485</td>\n",
       "    </tr>\n",
       "    <tr>\n",
       "      <th>13</th>\n",
       "      <td>98.866856</td>\n",
       "      <td>1.133144</td>\n",
       "    </tr>\n",
       "    <tr>\n",
       "      <th>14</th>\n",
       "      <td>99.719888</td>\n",
       "      <td>0.280112</td>\n",
       "    </tr>\n",
       "    <tr>\n",
       "      <th>15</th>\n",
       "      <td>99.342105</td>\n",
       "      <td>0.657895</td>\n",
       "    </tr>\n",
       "    <tr>\n",
       "      <th>16</th>\n",
       "      <td>100.000000</td>\n",
       "      <td>0.000000</td>\n",
       "    </tr>\n",
       "    <tr>\n",
       "      <th>2</th>\n",
       "      <td>92.857143</td>\n",
       "      <td>7.142857</td>\n",
       "    </tr>\n",
       "    <tr>\n",
       "      <th>3</th>\n",
       "      <td>92.706131</td>\n",
       "      <td>7.293869</td>\n",
       "    </tr>\n",
       "    <tr>\n",
       "      <th>4</th>\n",
       "      <td>93.106023</td>\n",
       "      <td>6.893977</td>\n",
       "    </tr>\n",
       "    <tr>\n",
       "      <th>5</th>\n",
       "      <td>93.423645</td>\n",
       "      <td>6.576355</td>\n",
       "    </tr>\n",
       "    <tr>\n",
       "      <th>6</th>\n",
       "      <td>94.385619</td>\n",
       "      <td>5.614381</td>\n",
       "    </tr>\n",
       "    <tr>\n",
       "      <th>7</th>\n",
       "      <td>94.701810</td>\n",
       "      <td>5.298190</td>\n",
       "    </tr>\n",
       "    <tr>\n",
       "      <th>8</th>\n",
       "      <td>95.538597</td>\n",
       "      <td>4.461403</td>\n",
       "    </tr>\n",
       "    <tr>\n",
       "      <th>9</th>\n",
       "      <td>96.406141</td>\n",
       "      <td>3.593859</td>\n",
       "    </tr>\n",
       "  </tbody>\n",
       "</table>\n",
       "</div>"
      ],
      "text/plain": [
       "buy                      0         1\n",
       "campaign_var_1                      \n",
       "1                93.910860  6.089140\n",
       "10               97.449833  2.550167\n",
       "11               97.437266  2.562734\n",
       "12               98.350515  1.649485\n",
       "13               98.866856  1.133144\n",
       "14               99.719888  0.280112\n",
       "15               99.342105  0.657895\n",
       "16              100.000000  0.000000\n",
       "2                92.857143  7.142857\n",
       "3                92.706131  7.293869\n",
       "4                93.106023  6.893977\n",
       "5                93.423645  6.576355\n",
       "6                94.385619  5.614381\n",
       "7                94.701810  5.298190\n",
       "8                95.538597  4.461403\n",
       "9                96.406141  3.593859"
      ]
     },
     "execution_count": 18,
     "metadata": {},
     "output_type": "execute_result"
    }
   ],
   "source": [
    "ct = pd.crosstab(df['campaign_var_1'], df[target])\n",
    "ct.divide(ct.sum(axis=1), axis='rows')*100"
   ]
  },
  {
   "cell_type": "markdown",
   "id": "38400f5f",
   "metadata": {},
   "source": [
    "# campaign_var_2"
   ]
  },
  {
   "cell_type": "code",
   "execution_count": 19,
   "id": "b78e9eee",
   "metadata": {},
   "outputs": [
    {
     "data": {
      "text/plain": [
       "6     14.667654\n",
       "7     13.973085\n",
       "5     13.406195\n",
       "8     11.976201\n",
       "4     10.758152\n",
       "9      9.031945\n",
       "3      7.361916\n",
       "10     5.868083\n",
       "2      4.565767\n",
       "11     3.600521\n",
       "12     1.943260\n",
       "1      1.504047\n",
       "13     0.896300\n",
       "14     0.385588\n",
       "15     0.061285\n",
       "Name: campaign_var_2, dtype: float64"
      ]
     },
     "execution_count": 19,
     "metadata": {},
     "output_type": "execute_result"
    }
   ],
   "source": [
    "df['campaign_var_2'].value_counts(normalize=True)*100"
   ]
  },
  {
   "cell_type": "code",
   "execution_count": 20,
   "id": "c8415fea",
   "metadata": {},
   "outputs": [],
   "source": [
    "df['campaign_var_2'] = df['campaign_var_2'].astype(str)"
   ]
  },
  {
   "cell_type": "code",
   "execution_count": 21,
   "id": "a22bfbbf",
   "metadata": {},
   "outputs": [
    {
     "data": {
      "text/plain": [
       "campaign_var_2\n",
       "4     7.785426\n",
       "5     7.238095\n",
       "6     6.354457\n",
       "3     5.896635\n",
       "2     5.816555\n",
       "7     5.354532\n",
       "8     4.029851\n",
       "1     3.735144\n",
       "9     2.883800\n",
       "10    1.479547\n",
       "11    0.496454\n",
       "12    0.394218\n",
       "13    0.284900\n",
       "14    0.000000\n",
       "15    0.000000\n",
       "Name: buy, dtype: float64"
      ]
     },
     "execution_count": 21,
     "metadata": {},
     "output_type": "execute_result"
    }
   ],
   "source": [
    "(df.groupby('campaign_var_2')[target].mean()*100).sort_values(ascending=False)"
   ]
  },
  {
   "cell_type": "code",
   "execution_count": 22,
   "id": "2aff934a",
   "metadata": {},
   "outputs": [
    {
     "data": {
      "text/html": [
       "<div>\n",
       "<style scoped>\n",
       "    .dataframe tbody tr th:only-of-type {\n",
       "        vertical-align: middle;\n",
       "    }\n",
       "\n",
       "    .dataframe tbody tr th {\n",
       "        vertical-align: top;\n",
       "    }\n",
       "\n",
       "    .dataframe thead th {\n",
       "        text-align: right;\n",
       "    }\n",
       "</style>\n",
       "<table border=\"1\" class=\"dataframe\">\n",
       "  <thead>\n",
       "    <tr style=\"text-align: right;\">\n",
       "      <th>buy</th>\n",
       "      <th>0</th>\n",
       "      <th>1</th>\n",
       "    </tr>\n",
       "    <tr>\n",
       "      <th>campaign_var_2</th>\n",
       "      <th></th>\n",
       "      <th></th>\n",
       "    </tr>\n",
       "  </thead>\n",
       "  <tbody>\n",
       "    <tr>\n",
       "      <th>1</th>\n",
       "      <td>96.264856</td>\n",
       "      <td>3.735144</td>\n",
       "    </tr>\n",
       "    <tr>\n",
       "      <th>10</th>\n",
       "      <td>98.520453</td>\n",
       "      <td>1.479547</td>\n",
       "    </tr>\n",
       "    <tr>\n",
       "      <th>11</th>\n",
       "      <td>99.503546</td>\n",
       "      <td>0.496454</td>\n",
       "    </tr>\n",
       "    <tr>\n",
       "      <th>12</th>\n",
       "      <td>99.605782</td>\n",
       "      <td>0.394218</td>\n",
       "    </tr>\n",
       "    <tr>\n",
       "      <th>13</th>\n",
       "      <td>99.715100</td>\n",
       "      <td>0.284900</td>\n",
       "    </tr>\n",
       "    <tr>\n",
       "      <th>14</th>\n",
       "      <td>100.000000</td>\n",
       "      <td>0.000000</td>\n",
       "    </tr>\n",
       "    <tr>\n",
       "      <th>15</th>\n",
       "      <td>100.000000</td>\n",
       "      <td>0.000000</td>\n",
       "    </tr>\n",
       "    <tr>\n",
       "      <th>2</th>\n",
       "      <td>94.183445</td>\n",
       "      <td>5.816555</td>\n",
       "    </tr>\n",
       "    <tr>\n",
       "      <th>3</th>\n",
       "      <td>94.103365</td>\n",
       "      <td>5.896635</td>\n",
       "    </tr>\n",
       "    <tr>\n",
       "      <th>4</th>\n",
       "      <td>92.214574</td>\n",
       "      <td>7.785426</td>\n",
       "    </tr>\n",
       "    <tr>\n",
       "      <th>5</th>\n",
       "      <td>92.761905</td>\n",
       "      <td>7.238095</td>\n",
       "    </tr>\n",
       "    <tr>\n",
       "      <th>6</th>\n",
       "      <td>93.645543</td>\n",
       "      <td>6.354457</td>\n",
       "    </tr>\n",
       "    <tr>\n",
       "      <th>7</th>\n",
       "      <td>94.645468</td>\n",
       "      <td>5.354532</td>\n",
       "    </tr>\n",
       "    <tr>\n",
       "      <th>8</th>\n",
       "      <td>95.970149</td>\n",
       "      <td>4.029851</td>\n",
       "    </tr>\n",
       "    <tr>\n",
       "      <th>9</th>\n",
       "      <td>97.116200</td>\n",
       "      <td>2.883800</td>\n",
       "    </tr>\n",
       "  </tbody>\n",
       "</table>\n",
       "</div>"
      ],
      "text/plain": [
       "buy                      0         1\n",
       "campaign_var_2                      \n",
       "1                96.264856  3.735144\n",
       "10               98.520453  1.479547\n",
       "11               99.503546  0.496454\n",
       "12               99.605782  0.394218\n",
       "13               99.715100  0.284900\n",
       "14              100.000000  0.000000\n",
       "15              100.000000  0.000000\n",
       "2                94.183445  5.816555\n",
       "3                94.103365  5.896635\n",
       "4                92.214574  7.785426\n",
       "5                92.761905  7.238095\n",
       "6                93.645543  6.354457\n",
       "7                94.645468  5.354532\n",
       "8                95.970149  4.029851\n",
       "9                97.116200  2.883800"
      ]
     },
     "execution_count": 22,
     "metadata": {},
     "output_type": "execute_result"
    }
   ],
   "source": [
    "ct = pd.crosstab(df['campaign_var_2'], df[target])\n",
    "ct.divide(ct.sum(axis=1), axis='rows')*100"
   ]
  },
  {
   "cell_type": "markdown",
   "id": "c514f6f3",
   "metadata": {},
   "source": [
    "# products purchased"
   ]
  },
  {
   "cell_type": "code",
   "execution_count": 23,
   "id": "eca88e79",
   "metadata": {},
   "outputs": [
    {
     "data": {
      "text/plain": [
       "NaN    53.397513\n",
       "2.0    22.642425\n",
       "3.0    12.829090\n",
       "1.0     9.302623\n",
       "4.0     1.828350\n",
       "Name: products_purchased, dtype: float64"
      ]
     },
     "execution_count": 23,
     "metadata": {},
     "output_type": "execute_result"
    }
   ],
   "source": [
    "df['products_purchased'].value_counts(dropna=False, normalize=True)*100"
   ]
  },
  {
   "cell_type": "code",
   "execution_count": 24,
   "id": "ce241f03",
   "metadata": {},
   "outputs": [
    {
     "data": {
      "text/plain": [
       "products_purchased\n",
       "4.0    10.335196\n",
       "1.0     6.642877\n",
       "3.0     5.055732\n",
       "NaN     4.997370\n",
       "2.0     4.319386\n",
       "Name: buy, dtype: float64"
      ]
     },
     "execution_count": 24,
     "metadata": {},
     "output_type": "execute_result"
    }
   ],
   "source": [
    "(df.groupby('products_purchased', dropna=False)[target].mean()*100).sort_values(ascending=False)"
   ]
  },
  {
   "cell_type": "code",
   "execution_count": 25,
   "id": "391868de",
   "metadata": {},
   "outputs": [
    {
     "data": {
      "text/html": [
       "<div>\n",
       "<style scoped>\n",
       "    .dataframe tbody tr th:only-of-type {\n",
       "        vertical-align: middle;\n",
       "    }\n",
       "\n",
       "    .dataframe tbody tr th {\n",
       "        vertical-align: top;\n",
       "    }\n",
       "\n",
       "    .dataframe thead th {\n",
       "        text-align: right;\n",
       "    }\n",
       "</style>\n",
       "<table border=\"1\" class=\"dataframe\">\n",
       "  <thead>\n",
       "    <tr style=\"text-align: right;\">\n",
       "      <th>buy</th>\n",
       "      <th>0</th>\n",
       "      <th>1</th>\n",
       "    </tr>\n",
       "    <tr>\n",
       "      <th>products_purchased</th>\n",
       "      <th></th>\n",
       "      <th></th>\n",
       "    </tr>\n",
       "  </thead>\n",
       "  <tbody>\n",
       "    <tr>\n",
       "      <th>1.0</th>\n",
       "      <td>93.357123</td>\n",
       "      <td>6.642877</td>\n",
       "    </tr>\n",
       "    <tr>\n",
       "      <th>2.0</th>\n",
       "      <td>95.680614</td>\n",
       "      <td>4.319386</td>\n",
       "    </tr>\n",
       "    <tr>\n",
       "      <th>3.0</th>\n",
       "      <td>94.944268</td>\n",
       "      <td>5.055732</td>\n",
       "    </tr>\n",
       "    <tr>\n",
       "      <th>4.0</th>\n",
       "      <td>89.664804</td>\n",
       "      <td>10.335196</td>\n",
       "    </tr>\n",
       "    <tr>\n",
       "      <th>NA</th>\n",
       "      <td>95.002630</td>\n",
       "      <td>4.997370</td>\n",
       "    </tr>\n",
       "  </tbody>\n",
       "</table>\n",
       "</div>"
      ],
      "text/plain": [
       "buy                         0          1\n",
       "products_purchased                      \n",
       "1.0                 93.357123   6.642877\n",
       "2.0                 95.680614   4.319386\n",
       "3.0                 94.944268   5.055732\n",
       "4.0                 89.664804  10.335196\n",
       "NA                  95.002630   4.997370"
      ]
     },
     "execution_count": 25,
     "metadata": {},
     "output_type": "execute_result"
    }
   ],
   "source": [
    "ct = pd.crosstab(df['products_purchased'].fillna('NA'), df[target])\n",
    "ct.divide(ct.sum(axis=1), axis='rows')*100"
   ]
  },
  {
   "cell_type": "markdown",
   "id": "84e070ae",
   "metadata": {},
   "source": [
    "# user activity"
   ]
  },
  {
   "cell_type": "code",
   "execution_count": 26,
   "id": "27dc91e8",
   "metadata": {
    "scrolled": false
   },
   "outputs": [
    {
     "name": "stdout",
     "output_type": "stream",
     "text": [
      "user_activity_var_1\n",
      "buy                           0          1\n",
      "user_activity_var_1                       \n",
      "0                     95.571662   4.428338\n",
      "1                     94.060468   5.939532\n",
      "2                     85.294118  14.705882\n",
      "3                    100.000000   0.000000\n",
      "\n",
      "0    60.950946\n",
      "1    38.091469\n",
      "2     0.955032\n",
      "3     0.002554\n",
      "Name: user_activity_var_1, dtype: float64\n",
      "\n",
      "user_activity_var_2\n",
      "buy                          0           1\n",
      "user_activity_var_2                       \n",
      "0                    95.539616    4.460384\n",
      "1                     0.000000  100.000000\n",
      "\n",
      "0    99.328413\n",
      "1     0.671587\n",
      "Name: user_activity_var_2, dtype: float64\n",
      "\n",
      "user_activity_var_3\n",
      "buy                          0         1\n",
      "user_activity_var_3                     \n",
      "0                    94.936529  5.063471\n",
      "1                    94.561708  5.438292\n",
      "\n",
      "0    89.71681\n",
      "1    10.28319\n",
      "Name: user_activity_var_3, dtype: float64\n",
      "\n",
      "user_activity_var_4\n",
      "buy                          0          1\n",
      "user_activity_var_4                      \n",
      "0                    95.833333   4.166667\n",
      "1                    14.253898  85.746102\n",
      "\n",
      "0    98.853451\n",
      "1     1.146549\n",
      "Name: user_activity_var_4, dtype: float64\n",
      "\n",
      "user_activity_var_5\n",
      "buy                          0           1\n",
      "user_activity_var_5                       \n",
      "0                    96.390326    3.609674\n",
      "1                    86.748009   13.251991\n",
      "2                     0.000000  100.000000\n",
      "\n",
      "0    84.890580\n",
      "1    15.068563\n",
      "2     0.040857\n",
      "Name: user_activity_var_5, dtype: float64\n",
      "\n",
      "user_activity_var_6\n",
      "buy                           0         1\n",
      "user_activity_var_6                      \n",
      "0                     94.710497  5.289503\n",
      "1                     95.049102  4.950898\n",
      "2                     95.948276  4.051724\n",
      "3                    100.000000  0.000000\n",
      "\n",
      "0    53.055336\n",
      "1    43.944230\n",
      "2     2.962131\n",
      "3     0.038303\n",
      "Name: user_activity_var_6, dtype: float64\n",
      "\n",
      "user_activity_var_7\n",
      "buy                          0        1\n",
      "user_activity_var_7                    \n",
      "0                     94.51091  5.48909\n",
      "1                     95.84535  4.15465\n",
      "2                    100.00000  0.00000\n",
      "\n",
      "0    71.502260\n",
      "1    28.334312\n",
      "2     0.163428\n",
      "Name: user_activity_var_7, dtype: float64\n",
      "\n",
      "user_activity_var_8\n",
      "buy                           0         1\n",
      "user_activity_var_8                      \n",
      "0                     93.913339  6.086661\n",
      "1                     99.560440  0.439560\n",
      "2                    100.000000  0.000000\n",
      "\n",
      "0    82.564286\n",
      "1    17.428053\n",
      "2     0.007661\n",
      "Name: user_activity_var_8, dtype: float64\n",
      "\n",
      "user_activity_var_9\n",
      "buy                          0           1\n",
      "user_activity_var_9                       \n",
      "0                    95.996177    4.003823\n",
      "1                     0.000000  100.000000\n",
      "\n",
      "0    98.856005\n",
      "1     1.143995\n",
      "Name: user_activity_var_9, dtype: float64\n",
      "\n",
      "user_activity_var_10\n",
      "buy                           0           1\n",
      "user_activity_var_10                       \n",
      "0                     94.934348    5.065652\n",
      "1                      0.000000  100.000000\n",
      "\n",
      "0    99.961697\n",
      "1     0.038303\n",
      "Name: user_activity_var_10, dtype: float64\n",
      "\n",
      "user_activity_var_11\n",
      "buy                           0           1\n",
      "user_activity_var_11                       \n",
      "0                     97.300625    2.699375\n",
      "1                     88.566108   11.433892\n",
      "2                      1.345291   98.654709\n",
      "3                      0.000000  100.000000\n",
      "4                      0.000000  100.000000\n",
      "\n",
      "0    78.800337\n",
      "1    20.568933\n",
      "2     0.569444\n",
      "3     0.058732\n",
      "4     0.002554\n",
      "Name: user_activity_var_11, dtype: float64\n",
      "\n",
      "user_activity_var_12\n",
      "buy                           0          1\n",
      "user_activity_var_12                      \n",
      "0                     94.933442   5.066558\n",
      "1                     31.818182  68.181818\n",
      "\n",
      "0    99.943822\n",
      "1     0.056178\n",
      "Name: user_activity_var_12, dtype: float64\n",
      "\n"
     ]
    }
   ],
   "source": [
    "user_act_cols = df.columns[df.columns.str.startswith('user')]\n",
    "for col in user_act_cols:\n",
    "    cnts = pd.crosstab(df[col], df[target])\n",
    "    print(col)\n",
    "    print(cnts.divide(cnts.sum(axis=1), axis='rows')*100, end='\\n\\n')\n",
    "    print(df[col].value_counts(normalize=True)*100, end='\\n\\n')"
   ]
  },
  {
   "cell_type": "code",
   "execution_count": 27,
   "id": "5e46f711",
   "metadata": {},
   "outputs": [
    {
     "data": {
      "text/plain": [
       "Index(['user_activity_var_1', 'user_activity_var_2', 'user_activity_var_3',\n",
       "       'user_activity_var_4', 'user_activity_var_5', 'user_activity_var_6',\n",
       "       'user_activity_var_7', 'user_activity_var_8', 'user_activity_var_9',\n",
       "       'user_activity_var_10', 'user_activity_var_11', 'user_activity_var_12'],\n",
       "      dtype='object')"
      ]
     },
     "execution_count": 27,
     "metadata": {},
     "output_type": "execute_result"
    }
   ],
   "source": [
    "user_act_cols"
   ]
  },
  {
   "cell_type": "code",
   "execution_count": 28,
   "id": "914f5731",
   "metadata": {},
   "outputs": [
    {
     "data": {
      "text/plain": [
       "138240"
      ]
     },
     "execution_count": 28,
     "metadata": {},
     "output_type": "execute_result"
    }
   ],
   "source": [
    "uniq = 1\n",
    "for col in user_act_cols:\n",
    "    uniq *= df[col].nunique()\n",
    "uniq"
   ]
  },
  {
   "cell_type": "code",
   "execution_count": 29,
   "id": "ae7c6c29",
   "metadata": {},
   "outputs": [
    {
     "data": {
      "text/plain": [
       "(616, 18)"
      ]
     },
     "execution_count": 29,
     "metadata": {},
     "output_type": "execute_result"
    }
   ],
   "source": [
    "df.drop_duplicates(subset=user_act_cols).shape"
   ]
  },
  {
   "cell_type": "code",
   "execution_count": 30,
   "id": "f18e4b0f",
   "metadata": {},
   "outputs": [
    {
     "data": {
      "text/plain": [
       "(1362, 18)"
      ]
     },
     "execution_count": 30,
     "metadata": {},
     "output_type": "execute_result"
    }
   ],
   "source": [
    "df.drop_duplicates(subset=user_act_cols.union(['products_purchased'])).shape"
   ]
  },
  {
   "cell_type": "code",
   "execution_count": 31,
   "id": "4f10b2cf",
   "metadata": {},
   "outputs": [
    {
     "data": {
      "text/plain": [
       "(1362, 18)"
      ]
     },
     "execution_count": 31,
     "metadata": {},
     "output_type": "execute_result"
    }
   ],
   "source": [
    "df.drop_duplicates(subset=user_act_cols.union(['products_purchased'])).shape"
   ]
  },
  {
   "cell_type": "code",
   "execution_count": 32,
   "id": "e8eaa7a2",
   "metadata": {},
   "outputs": [
    {
     "data": {
      "text/plain": [
       "['user_activity_var_1',\n",
       " 'user_activity_var_3',\n",
       " 'user_activity_var_4',\n",
       " 'user_activity_var_5',\n",
       " 'user_activity_var_6',\n",
       " 'user_activity_var_7',\n",
       " 'user_activity_var_8',\n",
       " 'user_activity_var_11',\n",
       " 'user_activity_var_12']"
      ]
     },
     "execution_count": 32,
     "metadata": {},
     "output_type": "execute_result"
    }
   ],
   "source": [
    "club_cols = ['user_activity_var_'+str(i) for i in [1,3,4,5,6,7,8,11,12]]\n",
    "club_cols"
   ]
  },
  {
   "cell_type": "code",
   "execution_count": 33,
   "id": "ec695b91",
   "metadata": {},
   "outputs": [],
   "source": [
    "df['user_act'] = (df[club_cols[0]] > 0).astype(int).astype(str)\n",
    "for col in club_cols[1:]:\n",
    "    df['user_act'] += (df[col] > 0).astype(int).astype(str)"
   ]
  },
  {
   "cell_type": "code",
   "execution_count": 34,
   "id": "1987ffa4",
   "metadata": {},
   "outputs": [
    {
     "data": {
      "text/plain": [
       "000010000    12.492020\n",
       "100000000     8.038610\n",
       "100010000     7.211256\n",
       "000000000     5.617834\n",
       "000001000     4.923265\n",
       "               ...    \n",
       "111001000     0.002554\n",
       "011010000     0.002554\n",
       "011111010     0.002554\n",
       "101001100     0.002554\n",
       "011110010     0.002554\n",
       "Name: user_act, Length: 211, dtype: float64"
      ]
     },
     "execution_count": 34,
     "metadata": {},
     "output_type": "execute_result"
    }
   ],
   "source": [
    "cnts = df['user_act'].value_counts(normalize=True)*100\n",
    "cnts"
   ]
  },
  {
   "cell_type": "code",
   "execution_count": 35,
   "id": "7fbf1452",
   "metadata": {},
   "outputs": [
    {
     "data": {
      "text/plain": [
       "25"
      ]
     },
     "execution_count": 35,
     "metadata": {},
     "output_type": "execute_result"
    }
   ],
   "source": [
    "(cnts > 1).sum()"
   ]
  },
  {
   "cell_type": "code",
   "execution_count": 36,
   "id": "ead5f2a3",
   "metadata": {},
   "outputs": [
    {
     "data": {
      "text/plain": [
       "000010000    12.492020\n",
       "100000000     8.038610\n",
       "100010000     7.211256\n",
       "000000000     5.617834\n",
       "000001000     4.923265\n",
       "000011000     4.711320\n",
       "100001000     4.090805\n",
       "000010010     3.620949\n",
       "000010100     2.977452\n",
       "000000010     2.788489\n",
       "100000010     2.499936\n",
       "100000100     2.078599\n",
       "000000100     2.037742\n",
       "000110000     1.930492\n",
       "100100000     1.662368\n",
       "000001010     1.616404\n",
       "010010000     1.488726\n",
       "000100000     1.442762\n",
       "000001100     1.340619\n",
       "100011000     1.322745\n",
       "100010010     1.304870\n",
       "100010100     1.159317\n",
       "000101000     1.143995\n",
       "110000000     1.029085\n",
       "010000000     1.011210\n",
       "Name: user_act, dtype: float64"
      ]
     },
     "execution_count": 36,
     "metadata": {},
     "output_type": "execute_result"
    }
   ],
   "source": [
    "cnts[cnts > 1]"
   ]
  },
  {
   "cell_type": "code",
   "execution_count": 37,
   "id": "fd337805",
   "metadata": {},
   "outputs": [
    {
     "data": {
      "text/plain": [
       "79.54086974285642"
      ]
     },
     "execution_count": 37,
     "metadata": {},
     "output_type": "execute_result"
    }
   ],
   "source": [
    "cnts[cnts > 1].sum()"
   ]
  },
  {
   "cell_type": "code",
   "execution_count": 38,
   "id": "58433165",
   "metadata": {},
   "outputs": [
    {
     "data": {
      "text/plain": [
       "25"
      ]
     },
     "execution_count": 38,
     "metadata": {},
     "output_type": "execute_result"
    }
   ],
   "source": [
    "(cnts.cumsum() < 80).sum()"
   ]
  },
  {
   "cell_type": "code",
   "execution_count": 39,
   "id": "24cadb8f",
   "metadata": {},
   "outputs": [
    {
     "data": {
      "image/png": "[encoded data removed]",
      "text/plain": [
       "<Figure size 432x288 with 1 Axes>"
      ]
     },
     "metadata": {
      "needs_background": "light"
     },
     "output_type": "display_data"
    }
   ],
   "source": [
    "sns.scatterplot(x=cnts.index, y=cnts.cumsum())\n",
    "plt.show()"
   ]
  },
  {
   "cell_type": "code",
   "execution_count": 40,
   "id": "60caeacc",
   "metadata": {},
   "outputs": [
    {
     "data": {
      "text/plain": [
       "40"
      ]
     },
     "execution_count": 40,
     "metadata": {},
     "output_type": "execute_result"
    }
   ],
   "source": [
    "(cnts.cumsum() < 90).sum()"
   ]
  },
  {
   "cell_type": "code",
   "execution_count": 41,
   "id": "c6022233",
   "metadata": {},
   "outputs": [
    {
     "data": {
      "text/plain": [
       "Index(['000010000', '100000000', '100010000', '000000000', '000001000',\n",
       "       '000011000', '100001000', '000010010', '000010100', '000000010',\n",
       "       '100000010', '100000100', '000000100', '000110000', '100100000',\n",
       "       '000001010', '010010000', '000100000', '000001100', '100011000',\n",
       "       '100010010', '100010100', '000101000', '110000000', '010000000',\n",
       "       '000000110', '100110000', '010001000', '000011010', '100001100',\n",
       "       '000011100', '100001010', '000100010', '000010110', '100101000',\n",
       "       '110010000', '000111000', '000110010', '100100010', '110001000'],\n",
       "      dtype='object')"
      ]
     },
     "execution_count": 41,
     "metadata": {},
     "output_type": "execute_result"
    }
   ],
   "source": [
    "keep_val = cnts[cnts.cumsum() < 90].index\n",
    "keep_val"
   ]
  },
  {
   "cell_type": "code",
   "execution_count": 42,
   "id": "1dff5922",
   "metadata": {},
   "outputs": [],
   "source": [
    "df['user_act_fil'] = np.where(df['user_act'].isin(keep_val), df['user_act'], 'others')"
   ]
  },
  {
   "cell_type": "code",
   "execution_count": 43,
   "id": "5b6ba4d3",
   "metadata": {},
   "outputs": [
    {
     "data": {
      "text/html": [
       "<div>\n",
       "<style scoped>\n",
       "    .dataframe tbody tr th:only-of-type {\n",
       "        vertical-align: middle;\n",
       "    }\n",
       "\n",
       "    .dataframe tbody tr th {\n",
       "        vertical-align: top;\n",
       "    }\n",
       "\n",
       "    .dataframe thead th {\n",
       "        text-align: right;\n",
       "    }\n",
       "</style>\n",
       "<table border=\"1\" class=\"dataframe\">\n",
       "  <thead>\n",
       "    <tr style=\"text-align: right;\">\n",
       "      <th>buy</th>\n",
       "      <th>0</th>\n",
       "      <th>1</th>\n",
       "    </tr>\n",
       "    <tr>\n",
       "      <th>user_act_fil</th>\n",
       "      <th></th>\n",
       "      <th></th>\n",
       "    </tr>\n",
       "  </thead>\n",
       "  <tbody>\n",
       "    <tr>\n",
       "      <th>100001100</th>\n",
       "      <td>100.000000</td>\n",
       "      <td>0.000000</td>\n",
       "    </tr>\n",
       "    <tr>\n",
       "      <th>000001100</th>\n",
       "      <td>100.000000</td>\n",
       "      <td>0.000000</td>\n",
       "    </tr>\n",
       "    <tr>\n",
       "      <th>000010100</th>\n",
       "      <td>100.000000</td>\n",
       "      <td>0.000000</td>\n",
       "    </tr>\n",
       "    <tr>\n",
       "      <th>000011100</th>\n",
       "      <td>100.000000</td>\n",
       "      <td>0.000000</td>\n",
       "    </tr>\n",
       "    <tr>\n",
       "      <th>100000100</th>\n",
       "      <td>99.877150</td>\n",
       "      <td>0.122850</td>\n",
       "    </tr>\n",
       "    <tr>\n",
       "      <th>100010100</th>\n",
       "      <td>99.779736</td>\n",
       "      <td>0.220264</td>\n",
       "    </tr>\n",
       "    <tr>\n",
       "      <th>000000100</th>\n",
       "      <td>99.749373</td>\n",
       "      <td>0.250627</td>\n",
       "    </tr>\n",
       "    <tr>\n",
       "      <th>000000110</th>\n",
       "      <td>99.404762</td>\n",
       "      <td>0.595238</td>\n",
       "    </tr>\n",
       "    <tr>\n",
       "      <th>010010000</th>\n",
       "      <td>99.142367</td>\n",
       "      <td>0.857633</td>\n",
       "    </tr>\n",
       "    <tr>\n",
       "      <th>000001000</th>\n",
       "      <td>98.962656</td>\n",
       "      <td>1.037344</td>\n",
       "    </tr>\n",
       "    <tr>\n",
       "      <th>000010110</th>\n",
       "      <td>98.880597</td>\n",
       "      <td>1.119403</td>\n",
       "    </tr>\n",
       "    <tr>\n",
       "      <th>000011000</th>\n",
       "      <td>98.699187</td>\n",
       "      <td>1.300813</td>\n",
       "    </tr>\n",
       "    <tr>\n",
       "      <th>000010000</th>\n",
       "      <td>98.691742</td>\n",
       "      <td>1.308258</td>\n",
       "    </tr>\n",
       "    <tr>\n",
       "      <th>010001000</th>\n",
       "      <td>98.684211</td>\n",
       "      <td>1.315789</td>\n",
       "    </tr>\n",
       "    <tr>\n",
       "      <th>100001000</th>\n",
       "      <td>98.564295</td>\n",
       "      <td>1.435705</td>\n",
       "    </tr>\n",
       "    <tr>\n",
       "      <th>110000000</th>\n",
       "      <td>98.511166</td>\n",
       "      <td>1.488834</td>\n",
       "    </tr>\n",
       "    <tr>\n",
       "      <th>010000000</th>\n",
       "      <td>97.979798</td>\n",
       "      <td>2.020202</td>\n",
       "    </tr>\n",
       "    <tr>\n",
       "      <th>100000000</th>\n",
       "      <td>97.776366</td>\n",
       "      <td>2.223634</td>\n",
       "    </tr>\n",
       "    <tr>\n",
       "      <th>000000000</th>\n",
       "      <td>97.681818</td>\n",
       "      <td>2.318182</td>\n",
       "    </tr>\n",
       "    <tr>\n",
       "      <th>100010000</th>\n",
       "      <td>97.662890</td>\n",
       "      <td>2.337110</td>\n",
       "    </tr>\n",
       "    <tr>\n",
       "      <th>110001000</th>\n",
       "      <td>97.354497</td>\n",
       "      <td>2.645503</td>\n",
       "    </tr>\n",
       "    <tr>\n",
       "      <th>110010000</th>\n",
       "      <td>97.165992</td>\n",
       "      <td>2.834008</td>\n",
       "    </tr>\n",
       "    <tr>\n",
       "      <th>000101000</th>\n",
       "      <td>97.098214</td>\n",
       "      <td>2.901786</td>\n",
       "    </tr>\n",
       "    <tr>\n",
       "      <th>000110000</th>\n",
       "      <td>96.164021</td>\n",
       "      <td>3.835979</td>\n",
       "    </tr>\n",
       "    <tr>\n",
       "      <th>100011000</th>\n",
       "      <td>95.559846</td>\n",
       "      <td>4.440154</td>\n",
       "    </tr>\n",
       "    <tr>\n",
       "      <th>100001010</th>\n",
       "      <td>95.340502</td>\n",
       "      <td>4.659498</td>\n",
       "    </tr>\n",
       "    <tr>\n",
       "      <th>000001010</th>\n",
       "      <td>94.470774</td>\n",
       "      <td>5.529226</td>\n",
       "    </tr>\n",
       "    <tr>\n",
       "      <th>000111000</th>\n",
       "      <td>94.372294</td>\n",
       "      <td>5.627706</td>\n",
       "    </tr>\n",
       "    <tr>\n",
       "      <th>000100000</th>\n",
       "      <td>93.097345</td>\n",
       "      <td>6.902655</td>\n",
       "    </tr>\n",
       "    <tr>\n",
       "      <th>100100000</th>\n",
       "      <td>92.780338</td>\n",
       "      <td>7.219662</td>\n",
       "    </tr>\n",
       "    <tr>\n",
       "      <th>100101000</th>\n",
       "      <td>92.578125</td>\n",
       "      <td>7.421875</td>\n",
       "    </tr>\n",
       "    <tr>\n",
       "      <th>000011010</th>\n",
       "      <td>91.610738</td>\n",
       "      <td>8.389262</td>\n",
       "    </tr>\n",
       "    <tr>\n",
       "      <th>000010010</th>\n",
       "      <td>91.184767</td>\n",
       "      <td>8.815233</td>\n",
       "    </tr>\n",
       "    <tr>\n",
       "      <th>000000010</th>\n",
       "      <td>90.109890</td>\n",
       "      <td>9.890110</td>\n",
       "    </tr>\n",
       "    <tr>\n",
       "      <th>100110000</th>\n",
       "      <td>89.156627</td>\n",
       "      <td>10.843373</td>\n",
       "    </tr>\n",
       "    <tr>\n",
       "      <th>100000010</th>\n",
       "      <td>88.457610</td>\n",
       "      <td>11.542390</td>\n",
       "    </tr>\n",
       "    <tr>\n",
       "      <th>others</th>\n",
       "      <td>82.999499</td>\n",
       "      <td>17.000501</td>\n",
       "    </tr>\n",
       "    <tr>\n",
       "      <th>100010010</th>\n",
       "      <td>81.604697</td>\n",
       "      <td>18.395303</td>\n",
       "    </tr>\n",
       "    <tr>\n",
       "      <th>000110010</th>\n",
       "      <td>68.181818</td>\n",
       "      <td>31.818182</td>\n",
       "    </tr>\n",
       "    <tr>\n",
       "      <th>100100010</th>\n",
       "      <td>67.346939</td>\n",
       "      <td>32.653061</td>\n",
       "    </tr>\n",
       "    <tr>\n",
       "      <th>000100010</th>\n",
       "      <td>66.909091</td>\n",
       "      <td>33.090909</td>\n",
       "    </tr>\n",
       "  </tbody>\n",
       "</table>\n",
       "</div>"
      ],
      "text/plain": [
       "buy                    0          1\n",
       "user_act_fil                       \n",
       "100001100     100.000000   0.000000\n",
       "000001100     100.000000   0.000000\n",
       "000010100     100.000000   0.000000\n",
       "000011100     100.000000   0.000000\n",
       "100000100      99.877150   0.122850\n",
       "100010100      99.779736   0.220264\n",
       "000000100      99.749373   0.250627\n",
       "000000110      99.404762   0.595238\n",
       "010010000      99.142367   0.857633\n",
       "000001000      98.962656   1.037344\n",
       "000010110      98.880597   1.119403\n",
       "000011000      98.699187   1.300813\n",
       "000010000      98.691742   1.308258\n",
       "010001000      98.684211   1.315789\n",
       "100001000      98.564295   1.435705\n",
       "110000000      98.511166   1.488834\n",
       "010000000      97.979798   2.020202\n",
       "100000000      97.776366   2.223634\n",
       "000000000      97.681818   2.318182\n",
       "100010000      97.662890   2.337110\n",
       "110001000      97.354497   2.645503\n",
       "110010000      97.165992   2.834008\n",
       "000101000      97.098214   2.901786\n",
       "000110000      96.164021   3.835979\n",
       "100011000      95.559846   4.440154\n",
       "100001010      95.340502   4.659498\n",
       "000001010      94.470774   5.529226\n",
       "000111000      94.372294   5.627706\n",
       "000100000      93.097345   6.902655\n",
       "100100000      92.780338   7.219662\n",
       "100101000      92.578125   7.421875\n",
       "000011010      91.610738   8.389262\n",
       "000010010      91.184767   8.815233\n",
       "000000010      90.109890   9.890110\n",
       "100110000      89.156627  10.843373\n",
       "100000010      88.457610  11.542390\n",
       "others         82.999499  17.000501\n",
       "100010010      81.604697  18.395303\n",
       "000110010      68.181818  31.818182\n",
       "100100010      67.346939  32.653061\n",
       "000100010      66.909091  33.090909"
      ]
     },
     "execution_count": 43,
     "metadata": {},
     "output_type": "execute_result"
    }
   ],
   "source": [
    "ct = pd.crosstab(df['user_act_fil'], df[target])\n",
    "mat = (ct.divide(ct.sum(axis=1), axis='rows')*100)\n",
    "mat.sort_values(by=1)"
   ]
  },
  {
   "cell_type": "code",
   "execution_count": 44,
   "id": "500e8b74",
   "metadata": {},
   "outputs": [
    {
     "data": {
      "text/html": [
       "<div>\n",
       "<style scoped>\n",
       "    .dataframe tbody tr th:only-of-type {\n",
       "        vertical-align: middle;\n",
       "    }\n",
       "\n",
       "    .dataframe tbody tr th {\n",
       "        vertical-align: top;\n",
       "    }\n",
       "\n",
       "    .dataframe thead th {\n",
       "        text-align: right;\n",
       "    }\n",
       "</style>\n",
       "<table border=\"1\" class=\"dataframe\">\n",
       "  <thead>\n",
       "    <tr style=\"text-align: right;\">\n",
       "      <th>buy</th>\n",
       "      <th>0</th>\n",
       "      <th>1</th>\n",
       "    </tr>\n",
       "  </thead>\n",
       "  <tbody>\n",
       "    <tr>\n",
       "      <th>000010000</th>\n",
       "      <td>98.691742</td>\n",
       "      <td>1.308258</td>\n",
       "    </tr>\n",
       "    <tr>\n",
       "      <th>100000000</th>\n",
       "      <td>97.776366</td>\n",
       "      <td>2.223634</td>\n",
       "    </tr>\n",
       "    <tr>\n",
       "      <th>100010000</th>\n",
       "      <td>97.662890</td>\n",
       "      <td>2.337110</td>\n",
       "    </tr>\n",
       "    <tr>\n",
       "      <th>000000000</th>\n",
       "      <td>97.681818</td>\n",
       "      <td>2.318182</td>\n",
       "    </tr>\n",
       "    <tr>\n",
       "      <th>000001000</th>\n",
       "      <td>98.962656</td>\n",
       "      <td>1.037344</td>\n",
       "    </tr>\n",
       "    <tr>\n",
       "      <th>000011000</th>\n",
       "      <td>98.699187</td>\n",
       "      <td>1.300813</td>\n",
       "    </tr>\n",
       "    <tr>\n",
       "      <th>100001000</th>\n",
       "      <td>98.564295</td>\n",
       "      <td>1.435705</td>\n",
       "    </tr>\n",
       "    <tr>\n",
       "      <th>000010010</th>\n",
       "      <td>91.184767</td>\n",
       "      <td>8.815233</td>\n",
       "    </tr>\n",
       "    <tr>\n",
       "      <th>000010100</th>\n",
       "      <td>100.000000</td>\n",
       "      <td>0.000000</td>\n",
       "    </tr>\n",
       "    <tr>\n",
       "      <th>000000010</th>\n",
       "      <td>90.109890</td>\n",
       "      <td>9.890110</td>\n",
       "    </tr>\n",
       "    <tr>\n",
       "      <th>100000010</th>\n",
       "      <td>88.457610</td>\n",
       "      <td>11.542390</td>\n",
       "    </tr>\n",
       "    <tr>\n",
       "      <th>100000100</th>\n",
       "      <td>99.877150</td>\n",
       "      <td>0.122850</td>\n",
       "    </tr>\n",
       "    <tr>\n",
       "      <th>000000100</th>\n",
       "      <td>99.749373</td>\n",
       "      <td>0.250627</td>\n",
       "    </tr>\n",
       "    <tr>\n",
       "      <th>000110000</th>\n",
       "      <td>96.164021</td>\n",
       "      <td>3.835979</td>\n",
       "    </tr>\n",
       "    <tr>\n",
       "      <th>100100000</th>\n",
       "      <td>92.780338</td>\n",
       "      <td>7.219662</td>\n",
       "    </tr>\n",
       "    <tr>\n",
       "      <th>000001010</th>\n",
       "      <td>94.470774</td>\n",
       "      <td>5.529226</td>\n",
       "    </tr>\n",
       "    <tr>\n",
       "      <th>010010000</th>\n",
       "      <td>99.142367</td>\n",
       "      <td>0.857633</td>\n",
       "    </tr>\n",
       "    <tr>\n",
       "      <th>000100000</th>\n",
       "      <td>93.097345</td>\n",
       "      <td>6.902655</td>\n",
       "    </tr>\n",
       "    <tr>\n",
       "      <th>000001100</th>\n",
       "      <td>100.000000</td>\n",
       "      <td>0.000000</td>\n",
       "    </tr>\n",
       "    <tr>\n",
       "      <th>100011000</th>\n",
       "      <td>95.559846</td>\n",
       "      <td>4.440154</td>\n",
       "    </tr>\n",
       "    <tr>\n",
       "      <th>100010010</th>\n",
       "      <td>81.604697</td>\n",
       "      <td>18.395303</td>\n",
       "    </tr>\n",
       "    <tr>\n",
       "      <th>100010100</th>\n",
       "      <td>99.779736</td>\n",
       "      <td>0.220264</td>\n",
       "    </tr>\n",
       "    <tr>\n",
       "      <th>000101000</th>\n",
       "      <td>97.098214</td>\n",
       "      <td>2.901786</td>\n",
       "    </tr>\n",
       "    <tr>\n",
       "      <th>110000000</th>\n",
       "      <td>98.511166</td>\n",
       "      <td>1.488834</td>\n",
       "    </tr>\n",
       "    <tr>\n",
       "      <th>010000000</th>\n",
       "      <td>97.979798</td>\n",
       "      <td>2.020202</td>\n",
       "    </tr>\n",
       "    <tr>\n",
       "      <th>000000110</th>\n",
       "      <td>99.404762</td>\n",
       "      <td>0.595238</td>\n",
       "    </tr>\n",
       "    <tr>\n",
       "      <th>100110000</th>\n",
       "      <td>89.156627</td>\n",
       "      <td>10.843373</td>\n",
       "    </tr>\n",
       "    <tr>\n",
       "      <th>010001000</th>\n",
       "      <td>98.684211</td>\n",
       "      <td>1.315789</td>\n",
       "    </tr>\n",
       "    <tr>\n",
       "      <th>000011010</th>\n",
       "      <td>91.610738</td>\n",
       "      <td>8.389262</td>\n",
       "    </tr>\n",
       "    <tr>\n",
       "      <th>100001100</th>\n",
       "      <td>100.000000</td>\n",
       "      <td>0.000000</td>\n",
       "    </tr>\n",
       "    <tr>\n",
       "      <th>000011100</th>\n",
       "      <td>100.000000</td>\n",
       "      <td>0.000000</td>\n",
       "    </tr>\n",
       "    <tr>\n",
       "      <th>100001010</th>\n",
       "      <td>95.340502</td>\n",
       "      <td>4.659498</td>\n",
       "    </tr>\n",
       "    <tr>\n",
       "      <th>000100010</th>\n",
       "      <td>66.909091</td>\n",
       "      <td>33.090909</td>\n",
       "    </tr>\n",
       "    <tr>\n",
       "      <th>000010110</th>\n",
       "      <td>98.880597</td>\n",
       "      <td>1.119403</td>\n",
       "    </tr>\n",
       "    <tr>\n",
       "      <th>100101000</th>\n",
       "      <td>92.578125</td>\n",
       "      <td>7.421875</td>\n",
       "    </tr>\n",
       "    <tr>\n",
       "      <th>110010000</th>\n",
       "      <td>97.165992</td>\n",
       "      <td>2.834008</td>\n",
       "    </tr>\n",
       "    <tr>\n",
       "      <th>000111000</th>\n",
       "      <td>94.372294</td>\n",
       "      <td>5.627706</td>\n",
       "    </tr>\n",
       "    <tr>\n",
       "      <th>000110010</th>\n",
       "      <td>68.181818</td>\n",
       "      <td>31.818182</td>\n",
       "    </tr>\n",
       "    <tr>\n",
       "      <th>100100010</th>\n",
       "      <td>67.346939</td>\n",
       "      <td>32.653061</td>\n",
       "    </tr>\n",
       "    <tr>\n",
       "      <th>110001000</th>\n",
       "      <td>97.354497</td>\n",
       "      <td>2.645503</td>\n",
       "    </tr>\n",
       "  </tbody>\n",
       "</table>\n",
       "</div>"
      ],
      "text/plain": [
       "buy                 0          1\n",
       "000010000   98.691742   1.308258\n",
       "100000000   97.776366   2.223634\n",
       "100010000   97.662890   2.337110\n",
       "000000000   97.681818   2.318182\n",
       "000001000   98.962656   1.037344\n",
       "000011000   98.699187   1.300813\n",
       "100001000   98.564295   1.435705\n",
       "000010010   91.184767   8.815233\n",
       "000010100  100.000000   0.000000\n",
       "000000010   90.109890   9.890110\n",
       "100000010   88.457610  11.542390\n",
       "100000100   99.877150   0.122850\n",
       "000000100   99.749373   0.250627\n",
       "000110000   96.164021   3.835979\n",
       "100100000   92.780338   7.219662\n",
       "000001010   94.470774   5.529226\n",
       "010010000   99.142367   0.857633\n",
       "000100000   93.097345   6.902655\n",
       "000001100  100.000000   0.000000\n",
       "100011000   95.559846   4.440154\n",
       "100010010   81.604697  18.395303\n",
       "100010100   99.779736   0.220264\n",
       "000101000   97.098214   2.901786\n",
       "110000000   98.511166   1.488834\n",
       "010000000   97.979798   2.020202\n",
       "000000110   99.404762   0.595238\n",
       "100110000   89.156627  10.843373\n",
       "010001000   98.684211   1.315789\n",
       "000011010   91.610738   8.389262\n",
       "100001100  100.000000   0.000000\n",
       "000011100  100.000000   0.000000\n",
       "100001010   95.340502   4.659498\n",
       "000100010   66.909091  33.090909\n",
       "000010110   98.880597   1.119403\n",
       "100101000   92.578125   7.421875\n",
       "110010000   97.165992   2.834008\n",
       "000111000   94.372294   5.627706\n",
       "000110010   68.181818  31.818182\n",
       "100100010   67.346939  32.653061\n",
       "110001000   97.354497   2.645503"
      ]
     },
     "execution_count": 44,
     "metadata": {},
     "output_type": "execute_result"
    }
   ],
   "source": [
    "mat.reindex(keep_val)"
   ]
  },
  {
   "cell_type": "markdown",
   "id": "fd39aa0d",
   "metadata": {},
   "source": [
    "# created_at"
   ]
  },
  {
   "cell_type": "code",
   "execution_count": 45,
   "id": "ad1c8e4d",
   "metadata": {},
   "outputs": [
    {
     "data": {
      "text/plain": [
       "365"
      ]
     },
     "execution_count": 45,
     "metadata": {},
     "output_type": "execute_result"
    }
   ],
   "source": [
    "df['created_at'].nunique()"
   ]
  },
  {
   "cell_type": "code",
   "execution_count": 46,
   "id": "c95a1448",
   "metadata": {},
   "outputs": [
    {
     "data": {
      "text/plain": [
       "2021-12-26    0.462195\n",
       "2021-12-09    0.459641\n",
       "2021-12-21    0.457087\n",
       "2021-12-07    0.457087\n",
       "2021-12-04    0.454534\n",
       "                ...   \n",
       "2021-01-07    0.086821\n",
       "2021-01-14    0.084268\n",
       "2021-01-06    0.074053\n",
       "2021-01-22    0.066393\n",
       "2021-01-01    0.053625\n",
       "Name: created_at, Length: 365, dtype: float64"
      ]
     },
     "execution_count": 46,
     "metadata": {},
     "output_type": "execute_result"
    }
   ],
   "source": [
    "df['created_at'].value_counts(normalize=True)*100"
   ]
  },
  {
   "cell_type": "code",
   "execution_count": 47,
   "id": "876b97cb",
   "metadata": {},
   "outputs": [
    {
     "data": {
      "text/plain": [
       "12    12.486913\n",
       "10    11.963433\n",
       "11    11.894487\n",
       "9     10.622814\n",
       "8     10.454278\n",
       "7      9.039606\n",
       "6      8.214806\n",
       "5      7.147417\n",
       "4      6.016190\n",
       "3      5.229693\n",
       "2      3.682235\n",
       "1      3.248130\n",
       "Name: created_at, dtype: float64"
      ]
     },
     "execution_count": 47,
     "metadata": {},
     "output_type": "execute_result"
    }
   ],
   "source": [
    "df['created_at'].dt.month.value_counts(normalize=True)*100"
   ]
  },
  {
   "cell_type": "code",
   "execution_count": 48,
   "id": "a3365e0d",
   "metadata": {},
   "outputs": [
    {
     "data": {
      "text/html": [
       "<div>\n",
       "<style scoped>\n",
       "    .dataframe tbody tr th:only-of-type {\n",
       "        vertical-align: middle;\n",
       "    }\n",
       "\n",
       "    .dataframe tbody tr th {\n",
       "        vertical-align: top;\n",
       "    }\n",
       "\n",
       "    .dataframe thead th {\n",
       "        text-align: right;\n",
       "    }\n",
       "</style>\n",
       "<table border=\"1\" class=\"dataframe\">\n",
       "  <thead>\n",
       "    <tr style=\"text-align: right;\">\n",
       "      <th>buy</th>\n",
       "      <th>0</th>\n",
       "      <th>1</th>\n",
       "    </tr>\n",
       "    <tr>\n",
       "      <th>created_at</th>\n",
       "      <th></th>\n",
       "      <th></th>\n",
       "    </tr>\n",
       "  </thead>\n",
       "  <tbody>\n",
       "    <tr>\n",
       "      <th>1</th>\n",
       "      <td>94.811321</td>\n",
       "      <td>5.188679</td>\n",
       "    </tr>\n",
       "    <tr>\n",
       "      <th>2</th>\n",
       "      <td>93.619972</td>\n",
       "      <td>6.380028</td>\n",
       "    </tr>\n",
       "    <tr>\n",
       "      <th>3</th>\n",
       "      <td>94.775391</td>\n",
       "      <td>5.224609</td>\n",
       "    </tr>\n",
       "    <tr>\n",
       "      <th>4</th>\n",
       "      <td>94.567063</td>\n",
       "      <td>5.432937</td>\n",
       "    </tr>\n",
       "    <tr>\n",
       "      <th>5</th>\n",
       "      <td>94.819578</td>\n",
       "      <td>5.180422</td>\n",
       "    </tr>\n",
       "    <tr>\n",
       "      <th>6</th>\n",
       "      <td>94.311470</td>\n",
       "      <td>5.688530</td>\n",
       "    </tr>\n",
       "    <tr>\n",
       "      <th>7</th>\n",
       "      <td>94.406780</td>\n",
       "      <td>5.593220</td>\n",
       "    </tr>\n",
       "    <tr>\n",
       "      <th>8</th>\n",
       "      <td>94.553004</td>\n",
       "      <td>5.446996</td>\n",
       "    </tr>\n",
       "    <tr>\n",
       "      <th>9</th>\n",
       "      <td>94.639423</td>\n",
       "      <td>5.360577</td>\n",
       "    </tr>\n",
       "    <tr>\n",
       "      <th>10</th>\n",
       "      <td>95.304162</td>\n",
       "      <td>4.695838</td>\n",
       "    </tr>\n",
       "    <tr>\n",
       "      <th>11</th>\n",
       "      <td>95.770717</td>\n",
       "      <td>4.229283</td>\n",
       "    </tr>\n",
       "    <tr>\n",
       "      <th>12</th>\n",
       "      <td>95.582822</td>\n",
       "      <td>4.417178</td>\n",
       "    </tr>\n",
       "  </tbody>\n",
       "</table>\n",
       "</div>"
      ],
      "text/plain": [
       "buy                 0         1\n",
       "created_at                     \n",
       "1           94.811321  5.188679\n",
       "2           93.619972  6.380028\n",
       "3           94.775391  5.224609\n",
       "4           94.567063  5.432937\n",
       "5           94.819578  5.180422\n",
       "6           94.311470  5.688530\n",
       "7           94.406780  5.593220\n",
       "8           94.553004  5.446996\n",
       "9           94.639423  5.360577\n",
       "10          95.304162  4.695838\n",
       "11          95.770717  4.229283\n",
       "12          95.582822  4.417178"
      ]
     },
     "execution_count": 48,
     "metadata": {},
     "output_type": "execute_result"
    }
   ],
   "source": [
    "ct = pd.crosstab(df['created_at'].dt.month, df[target])\n",
    "ct.divide(ct.sum(axis=1), axis='rows')*100"
   ]
  },
  {
   "cell_type": "code",
   "execution_count": 49,
   "id": "54815ea1",
   "metadata": {},
   "outputs": [
    {
     "data": {
      "text/plain": [
       "0    14.483798\n",
       "6    14.376548\n",
       "3    14.289727\n",
       "2    14.248870\n",
       "4    14.228442\n",
       "5    14.223334\n",
       "1    14.149281\n",
       "Name: created_at, dtype: float64"
      ]
     },
     "execution_count": 49,
     "metadata": {},
     "output_type": "execute_result"
    }
   ],
   "source": [
    "df['created_at'].dt.dayofweek.value_counts(normalize=True)*100"
   ]
  },
  {
   "cell_type": "markdown",
   "id": "0ecc4d57",
   "metadata": {},
   "source": [
    "# signup date"
   ]
  },
  {
   "cell_type": "code",
   "execution_count": 50,
   "id": "9825b301",
   "metadata": {},
   "outputs": [
    {
     "data": {
      "text/plain": [
       "NaT           38.591966\n",
       "2021-07-18     0.114910\n",
       "2021-08-03     0.097035\n",
       "2021-01-28     0.097035\n",
       "2021-09-20     0.097035\n",
       "                ...    \n",
       "2015-11-06     0.002554\n",
       "2018-06-11     0.002554\n",
       "2015-12-10     0.002554\n",
       "2018-11-16     0.002554\n",
       "2017-10-19     0.002554\n",
       "Name: signup_date, Length: 1801, dtype: float64"
      ]
     },
     "execution_count": 50,
     "metadata": {},
     "output_type": "execute_result"
    }
   ],
   "source": [
    "df['signup_date'].value_counts(dropna=False, normalize=True)*100"
   ]
  },
  {
   "cell_type": "code",
   "execution_count": 51,
   "id": "c90d2ada",
   "metadata": {},
   "outputs": [
    {
     "data": {
      "text/plain": [
       "NaN     38.591966\n",
       "3.0      5.960011\n",
       "1.0      5.891065\n",
       "12.0     5.508031\n",
       "2.0      5.462067\n",
       "10.0     5.459513\n",
       "11.0     5.262889\n",
       "8.0      4.923265\n",
       "9.0      4.907944\n",
       "7.0      4.844105\n",
       "6.0      4.524910\n",
       "5.0      4.517249\n",
       "4.0      4.146983\n",
       "Name: signup_date, dtype: float64"
      ]
     },
     "execution_count": 51,
     "metadata": {},
     "output_type": "execute_result"
    }
   ],
   "source": [
    "df['signup_date'].dt.month.value_counts(dropna=False, normalize=True)*100"
   ]
  },
  {
   "cell_type": "code",
   "execution_count": null,
   "id": "4e595bdb",
   "metadata": {},
   "outputs": [],
   "source": []
  },
  {
   "cell_type": "code",
   "execution_count": 52,
   "id": "b7482aef",
   "metadata": {},
   "outputs": [
    {
     "data": {
      "text/plain": [
       "id\n",
       "1         -99.0\n",
       "2        -104.0\n",
       "3         222.0\n",
       "4       -1185.0\n",
       "5        -207.0\n",
       "          ...  \n",
       "39157   -1534.0\n",
       "39158       NaN\n",
       "39159       NaN\n",
       "39160       NaN\n",
       "39161    -873.0\n",
       "Name: diff, Length: 39161, dtype: float64"
      ]
     },
     "execution_count": 52,
     "metadata": {},
     "output_type": "execute_result"
    }
   ],
   "source": [
    "df['diff'] = (df['signup_date'] - df['created_at']).dt.days\n",
    "df['diff']"
   ]
  },
  {
   "cell_type": "code",
   "execution_count": 53,
   "id": "068e0aa0",
   "metadata": {},
   "outputs": [
    {
     "data": {
      "text/plain": [
       "count    24048.000000\n",
       "mean      -301.881944\n",
       "std        383.826637\n",
       "min      -2350.000000\n",
       "25%       -532.000000\n",
       "50%       -238.000000\n",
       "75%         -6.750000\n",
       "max        445.000000\n",
       "Name: diff, dtype: float64"
      ]
     },
     "execution_count": 53,
     "metadata": {},
     "output_type": "execute_result"
    }
   ],
   "source": [
    "df['diff'].describe()"
   ]
  },
  {
   "cell_type": "code",
   "execution_count": 54,
   "id": "fe788c84",
   "metadata": {},
   "outputs": [
    {
     "data": {
      "text/plain": [
       "2795"
      ]
     },
     "execution_count": 54,
     "metadata": {},
     "output_type": "execute_result"
    }
   ],
   "source": [
    "445+2350"
   ]
  },
  {
   "cell_type": "code",
   "execution_count": null,
   "id": "9e2c818b",
   "metadata": {},
   "outputs": [],
   "source": []
  },
  {
   "cell_type": "code",
   "execution_count": null,
   "id": "4c78f0ae",
   "metadata": {},
   "outputs": [],
   "source": []
  },
  {
   "cell_type": "code",
   "execution_count": null,
   "id": "0618cfd8",
   "metadata": {},
   "outputs": [],
   "source": []
  },
  {
   "cell_type": "code",
   "execution_count": 56,
   "id": "5dbc6e6a",
   "metadata": {},
   "outputs": [
    {
     "data": {
      "text/html": [
       "<div>\n",
       "<style scoped>\n",
       "    .dataframe tbody tr th:only-of-type {\n",
       "        vertical-align: middle;\n",
       "    }\n",
       "\n",
       "    .dataframe tbody tr th {\n",
       "        vertical-align: top;\n",
       "    }\n",
       "\n",
       "    .dataframe thead th {\n",
       "        text-align: right;\n",
       "    }\n",
       "</style>\n",
       "<table border=\"1\" class=\"dataframe\">\n",
       "  <thead>\n",
       "    <tr style=\"text-align: right;\">\n",
       "      <th></th>\n",
       "      <th>user_activity_var_1</th>\n",
       "      <th>user_activity_var_2</th>\n",
       "      <th>user_activity_var_3</th>\n",
       "      <th>user_activity_var_4</th>\n",
       "      <th>user_activity_var_5</th>\n",
       "      <th>user_activity_var_6</th>\n",
       "      <th>user_activity_var_7</th>\n",
       "      <th>user_activity_var_8</th>\n",
       "      <th>user_activity_var_9</th>\n",
       "      <th>user_activity_var_10</th>\n",
       "      <th>user_activity_var_11</th>\n",
       "      <th>user_activity_var_12</th>\n",
       "    </tr>\n",
       "    <tr>\n",
       "      <th>id</th>\n",
       "      <th></th>\n",
       "      <th></th>\n",
       "      <th></th>\n",
       "      <th></th>\n",
       "      <th></th>\n",
       "      <th></th>\n",
       "      <th></th>\n",
       "      <th></th>\n",
       "      <th></th>\n",
       "      <th></th>\n",
       "      <th></th>\n",
       "      <th></th>\n",
       "    </tr>\n",
       "  </thead>\n",
       "  <tbody>\n",
       "    <tr>\n",
       "      <th>1</th>\n",
       "      <td>0</td>\n",
       "      <td>0</td>\n",
       "      <td>0</td>\n",
       "      <td>0</td>\n",
       "      <td>0</td>\n",
       "      <td>0</td>\n",
       "      <td>1</td>\n",
       "      <td>1</td>\n",
       "      <td>0</td>\n",
       "      <td>0</td>\n",
       "      <td>0</td>\n",
       "      <td>0</td>\n",
       "    </tr>\n",
       "    <tr>\n",
       "      <th>2</th>\n",
       "      <td>1</td>\n",
       "      <td>0</td>\n",
       "      <td>1</td>\n",
       "      <td>0</td>\n",
       "      <td>0</td>\n",
       "      <td>0</td>\n",
       "      <td>1</td>\n",
       "      <td>0</td>\n",
       "      <td>0</td>\n",
       "      <td>0</td>\n",
       "      <td>0</td>\n",
       "      <td>0</td>\n",
       "    </tr>\n",
       "    <tr>\n",
       "      <th>3</th>\n",
       "      <td>1</td>\n",
       "      <td>0</td>\n",
       "      <td>0</td>\n",
       "      <td>0</td>\n",
       "      <td>0</td>\n",
       "      <td>0</td>\n",
       "      <td>0</td>\n",
       "      <td>0</td>\n",
       "      <td>0</td>\n",
       "      <td>0</td>\n",
       "      <td>0</td>\n",
       "      <td>0</td>\n",
       "    </tr>\n",
       "    <tr>\n",
       "      <th>4</th>\n",
       "      <td>0</td>\n",
       "      <td>0</td>\n",
       "      <td>0</td>\n",
       "      <td>0</td>\n",
       "      <td>0</td>\n",
       "      <td>0</td>\n",
       "      <td>0</td>\n",
       "      <td>0</td>\n",
       "      <td>0</td>\n",
       "      <td>0</td>\n",
       "      <td>0</td>\n",
       "      <td>0</td>\n",
       "    </tr>\n",
       "    <tr>\n",
       "      <th>5</th>\n",
       "      <td>0</td>\n",
       "      <td>0</td>\n",
       "      <td>0</td>\n",
       "      <td>0</td>\n",
       "      <td>0</td>\n",
       "      <td>0</td>\n",
       "      <td>1</td>\n",
       "      <td>0</td>\n",
       "      <td>0</td>\n",
       "      <td>0</td>\n",
       "      <td>1</td>\n",
       "      <td>0</td>\n",
       "    </tr>\n",
       "    <tr>\n",
       "      <th>...</th>\n",
       "      <td>...</td>\n",
       "      <td>...</td>\n",
       "      <td>...</td>\n",
       "      <td>...</td>\n",
       "      <td>...</td>\n",
       "      <td>...</td>\n",
       "      <td>...</td>\n",
       "      <td>...</td>\n",
       "      <td>...</td>\n",
       "      <td>...</td>\n",
       "      <td>...</td>\n",
       "      <td>...</td>\n",
       "    </tr>\n",
       "    <tr>\n",
       "      <th>39157</th>\n",
       "      <td>1</td>\n",
       "      <td>0</td>\n",
       "      <td>0</td>\n",
       "      <td>0</td>\n",
       "      <td>1</td>\n",
       "      <td>1</td>\n",
       "      <td>1</td>\n",
       "      <td>0</td>\n",
       "      <td>0</td>\n",
       "      <td>0</td>\n",
       "      <td>0</td>\n",
       "      <td>0</td>\n",
       "    </tr>\n",
       "    <tr>\n",
       "      <th>39158</th>\n",
       "      <td>0</td>\n",
       "      <td>0</td>\n",
       "      <td>0</td>\n",
       "      <td>0</td>\n",
       "      <td>0</td>\n",
       "      <td>0</td>\n",
       "      <td>0</td>\n",
       "      <td>0</td>\n",
       "      <td>0</td>\n",
       "      <td>0</td>\n",
       "      <td>0</td>\n",
       "      <td>0</td>\n",
       "    </tr>\n",
       "    <tr>\n",
       "      <th>39159</th>\n",
       "      <td>1</td>\n",
       "      <td>0</td>\n",
       "      <td>0</td>\n",
       "      <td>0</td>\n",
       "      <td>1</td>\n",
       "      <td>0</td>\n",
       "      <td>1</td>\n",
       "      <td>0</td>\n",
       "      <td>0</td>\n",
       "      <td>0</td>\n",
       "      <td>0</td>\n",
       "      <td>0</td>\n",
       "    </tr>\n",
       "    <tr>\n",
       "      <th>39160</th>\n",
       "      <td>0</td>\n",
       "      <td>0</td>\n",
       "      <td>0</td>\n",
       "      <td>0</td>\n",
       "      <td>0</td>\n",
       "      <td>1</td>\n",
       "      <td>0</td>\n",
       "      <td>0</td>\n",
       "      <td>0</td>\n",
       "      <td>0</td>\n",
       "      <td>1</td>\n",
       "      <td>0</td>\n",
       "    </tr>\n",
       "    <tr>\n",
       "      <th>39161</th>\n",
       "      <td>1</td>\n",
       "      <td>0</td>\n",
       "      <td>0</td>\n",
       "      <td>0</td>\n",
       "      <td>0</td>\n",
       "      <td>0</td>\n",
       "      <td>1</td>\n",
       "      <td>0</td>\n",
       "      <td>0</td>\n",
       "      <td>0</td>\n",
       "      <td>0</td>\n",
       "      <td>0</td>\n",
       "    </tr>\n",
       "  </tbody>\n",
       "</table>\n",
       "<p>39161 rows × 12 columns</p>\n",
       "</div>"
      ],
      "text/plain": [
       "       user_activity_var_1  user_activity_var_2  user_activity_var_3  \\\n",
       "id                                                                     \n",
       "1                        0                    0                    0   \n",
       "2                        1                    0                    1   \n",
       "3                        1                    0                    0   \n",
       "4                        0                    0                    0   \n",
       "5                        0                    0                    0   \n",
       "...                    ...                  ...                  ...   \n",
       "39157                    1                    0                    0   \n",
       "39158                    0                    0                    0   \n",
       "39159                    1                    0                    0   \n",
       "39160                    0                    0                    0   \n",
       "39161                    1                    0                    0   \n",
       "\n",
       "       user_activity_var_4  user_activity_var_5  user_activity_var_6  \\\n",
       "id                                                                     \n",
       "1                        0                    0                    0   \n",
       "2                        0                    0                    0   \n",
       "3                        0                    0                    0   \n",
       "4                        0                    0                    0   \n",
       "5                        0                    0                    0   \n",
       "...                    ...                  ...                  ...   \n",
       "39157                    0                    1                    1   \n",
       "39158                    0                    0                    0   \n",
       "39159                    0                    1                    0   \n",
       "39160                    0                    0                    1   \n",
       "39161                    0                    0                    0   \n",
       "\n",
       "       user_activity_var_7  user_activity_var_8  user_activity_var_9  \\\n",
       "id                                                                     \n",
       "1                        1                    1                    0   \n",
       "2                        1                    0                    0   \n",
       "3                        0                    0                    0   \n",
       "4                        0                    0                    0   \n",
       "5                        1                    0                    0   \n",
       "...                    ...                  ...                  ...   \n",
       "39157                    1                    0                    0   \n",
       "39158                    0                    0                    0   \n",
       "39159                    1                    0                    0   \n",
       "39160                    0                    0                    0   \n",
       "39161                    1                    0                    0   \n",
       "\n",
       "       user_activity_var_10  user_activity_var_11  user_activity_var_12  \n",
       "id                                                                       \n",
       "1                         0                     0                     0  \n",
       "2                         0                     0                     0  \n",
       "3                         0                     0                     0  \n",
       "4                         0                     0                     0  \n",
       "5                         0                     1                     0  \n",
       "...                     ...                   ...                   ...  \n",
       "39157                     0                     0                     0  \n",
       "39158                     0                     0                     0  \n",
       "39159                     0                     0                     0  \n",
       "39160                     0                     1                     0  \n",
       "39161                     0                     0                     0  \n",
       "\n",
       "[39161 rows x 12 columns]"
      ]
     },
     "execution_count": 56,
     "metadata": {},
     "output_type": "execute_result"
    }
   ],
   "source": [
    "user_act = df[user_act_cols]\n",
    "user_act"
   ]
  },
  {
   "cell_type": "code",
   "execution_count": 58,
   "id": "da67bd54",
   "metadata": {},
   "outputs": [],
   "source": [
    "from sklearn import cluster, decomposition"
   ]
  },
  {
   "cell_type": "code",
   "execution_count": 62,
   "id": "cf0f40f4",
   "metadata": {},
   "outputs": [
    {
     "data": {
      "text/plain": [
       "(39161, 12)"
      ]
     },
     "execution_count": 62,
     "metadata": {},
     "output_type": "execute_result"
    }
   ],
   "source": [
    "user_act.shape"
   ]
  },
  {
   "cell_type": "code",
   "execution_count": 63,
   "id": "52dd602e",
   "metadata": {},
   "outputs": [
    {
     "data": {
      "text/plain": [
       "(39161, 9)"
      ]
     },
     "execution_count": 63,
     "metadata": {},
     "output_type": "execute_result"
    }
   ],
   "source": [
    "pca = decomposition.PCA(0.99)\n",
    "pca.fit_transform(user_act).shape"
   ]
  },
  {
   "cell_type": "code",
   "execution_count": 73,
   "id": "1faa7bc5",
   "metadata": {},
   "outputs": [
    {
     "data": {
      "text/plain": [
       "array([0, 0, 0, ..., 0, 1, 0], dtype=int32)"
      ]
     },
     "execution_count": 73,
     "metadata": {},
     "output_type": "execute_result"
    }
   ],
   "source": [
    "kmeans = cluster.KMeans(n_clusters=2)\n",
    "kmeans.fit_predict(user_act)"
   ]
  },
  {
   "cell_type": "code",
   "execution_count": 67,
   "id": "e2219408",
   "metadata": {},
   "outputs": [],
   "source": [
    "sse = []\n",
    "for num in range(2, 20):\n",
    "    kmeans = cluster.KMeans(n_clusters=num)\n",
    "    kmeans.fit_predict(user_act)\n",
    "    sse.append(kmeans.inertia_)"
   ]
  },
  {
   "cell_type": "code",
   "execution_count": 69,
   "id": "4e7ec701",
   "metadata": {},
   "outputs": [
    {
     "data": {
      "image/png": "[encoded data removed]",
      "text/plain": [
       "<Figure size 432x288 with 1 Axes>"
      ]
     },
     "metadata": {
      "needs_background": "light"
     },
     "output_type": "display_data"
    }
   ],
   "source": [
    "plt.plot(list(range(2,20)), sse)\n",
    "plt.show()"
   ]
  }
 ],
 "metadata": {
  "kernelspec": {
   "display_name": "Python 3 (ipykernel)",
   "language": "python",
   "name": "python3"
  },
  "language_info": {
   "codemirror_mode": {
    "name": "ipython",
    "version": 3
   },
   "file_extension": ".py",
   "mimetype": "text/x-python",
   "name": "python",
   "nbconvert_exporter": "python",
   "pygments_lexer": "ipython3",
   "version": "3.7.13"
  }
 },
 "nbformat": 4,
 "nbformat_minor": 5
}
